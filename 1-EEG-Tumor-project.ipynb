{
 "cells": [
  {
   "cell_type": "markdown",
   "id": "1bb043b2",
   "metadata": {},
   "source": [
    "# Phase1 : EEG-Tumour Detection\n"
   ]
  },
  {
   "cell_type": "markdown",
   "id": "31ae1017",
   "metadata": {},
   "source": [
    "# problem definition:\n",
    "EEG analysis using advanced algorithms to detect brain tumors. Utilizing machine learning models, it identifies distinct patterns in EEG data, highlighting abnormal electrical activity linked to tumor presence. High-resolution EEG cap designs enhance signal acquisition, capturing minute irregularities. Novel spectral and connectivity analyses unravel subtle biomarkers, distinguishing tumor signatures amidst neural activity. Integration with neuroimaging techniques like MRI strengthens accuracy, enabling precise localization and characterization of tumors. Real-time monitoring and cloud-based collaboration expedite diagnosis and treatment planning. These advancements in EEG-based tumor detection showcase promising strides toward non-invasive, early, and precise identification of brain tumors in clinical settings."
   ]
  },
  {
   "cell_type": "markdown",
   "id": "cdd3822e",
   "metadata": {},
   "source": [
    "# Data Preprocessing "
   ]
  },
  {
   "cell_type": "code",
   "execution_count": 1,
   "id": "fde592c2",
   "metadata": {},
   "outputs": [],
   "source": [
    "import pandas as pd\n",
    "import numpy as np\n",
    "import matplotlib.pyplot as plt\n",
    "import seaborn as sns \n",
    "from scipy.stats import skew \n",
    "from scipy.stats import kurtosis\n",
    "import scipy.stats as stats\n",
    "from sklearn.metrics import confusion_matrix, accuracy_score, recall_score, f1_score, precision_score\n",
    "import seaborn as sns\n",
    "import matplotlib.pyplot as plt\n",
    "from sklearn.model_selection import train_test_split\n",
    "from sklearn.preprocessing import StandardScaler\n",
    "from sklearn.naive_bayes import GaussianNB\n",
    "from sklearn import metrics\n",
    "from sklearn.metrics import confusion_matrix\n",
    "from sklearn.metrics import accuracy_score, precision_score, recall_score, f1_score"
   ]
  },
  {
   "cell_type": "code",
   "execution_count": 2,
   "id": "496e78d4",
   "metadata": {},
   "outputs": [
    {
     "data": {
      "text/html": [
       "<div>\n",
       "<style scoped>\n",
       "    .dataframe tbody tr th:only-of-type {\n",
       "        vertical-align: middle;\n",
       "    }\n",
       "\n",
       "    .dataframe tbody tr th {\n",
       "        vertical-align: top;\n",
       "    }\n",
       "\n",
       "    .dataframe thead th {\n",
       "        text-align: right;\n",
       "    }\n",
       "</style>\n",
       "<table border=\"1\" class=\"dataframe\">\n",
       "  <thead>\n",
       "    <tr style=\"text-align: right;\">\n",
       "      <th></th>\n",
       "      <th>AF3</th>\n",
       "      <th>F7</th>\n",
       "      <th>F3</th>\n",
       "      <th>FC5</th>\n",
       "      <th>T7</th>\n",
       "      <th>P7</th>\n",
       "      <th>O1</th>\n",
       "      <th>O2</th>\n",
       "      <th>P8</th>\n",
       "      <th>T8</th>\n",
       "      <th>FC6</th>\n",
       "      <th>F4</th>\n",
       "      <th>F8</th>\n",
       "      <th>AF4</th>\n",
       "      <th>result</th>\n",
       "    </tr>\n",
       "  </thead>\n",
       "  <tbody>\n",
       "    <tr>\n",
       "      <th>0</th>\n",
       "      <td>4329.23</td>\n",
       "      <td>4009.23</td>\n",
       "      <td>4289.23</td>\n",
       "      <td>4148.21</td>\n",
       "      <td>4350.26</td>\n",
       "      <td>4586.15</td>\n",
       "      <td>4096.92</td>\n",
       "      <td>4641.03</td>\n",
       "      <td>4222.05</td>\n",
       "      <td>4238.46</td>\n",
       "      <td>4211.28</td>\n",
       "      <td>4280.51</td>\n",
       "      <td>4635.90</td>\n",
       "      <td>4393.85</td>\n",
       "      <td>0</td>\n",
       "    </tr>\n",
       "    <tr>\n",
       "      <th>1</th>\n",
       "      <td>4324.62</td>\n",
       "      <td>4004.62</td>\n",
       "      <td>4293.85</td>\n",
       "      <td>4148.72</td>\n",
       "      <td>4342.05</td>\n",
       "      <td>4586.67</td>\n",
       "      <td>4097.44</td>\n",
       "      <td>4638.97</td>\n",
       "      <td>4210.77</td>\n",
       "      <td>4226.67</td>\n",
       "      <td>4207.69</td>\n",
       "      <td>4279.49</td>\n",
       "      <td>4632.82</td>\n",
       "      <td>4384.10</td>\n",
       "      <td>0</td>\n",
       "    </tr>\n",
       "    <tr>\n",
       "      <th>2</th>\n",
       "      <td>4327.69</td>\n",
       "      <td>4006.67</td>\n",
       "      <td>4295.38</td>\n",
       "      <td>4156.41</td>\n",
       "      <td>4336.92</td>\n",
       "      <td>4583.59</td>\n",
       "      <td>4096.92</td>\n",
       "      <td>4630.26</td>\n",
       "      <td>4207.69</td>\n",
       "      <td>4222.05</td>\n",
       "      <td>4206.67</td>\n",
       "      <td>4282.05</td>\n",
       "      <td>4628.72</td>\n",
       "      <td>4389.23</td>\n",
       "      <td>0</td>\n",
       "    </tr>\n",
       "    <tr>\n",
       "      <th>3</th>\n",
       "      <td>4328.72</td>\n",
       "      <td>4011.79</td>\n",
       "      <td>4296.41</td>\n",
       "      <td>4155.90</td>\n",
       "      <td>4343.59</td>\n",
       "      <td>4582.56</td>\n",
       "      <td>4097.44</td>\n",
       "      <td>4630.77</td>\n",
       "      <td>4217.44</td>\n",
       "      <td>4235.38</td>\n",
       "      <td>4210.77</td>\n",
       "      <td>4287.69</td>\n",
       "      <td>4632.31</td>\n",
       "      <td>4396.41</td>\n",
       "      <td>0</td>\n",
       "    </tr>\n",
       "    <tr>\n",
       "      <th>4</th>\n",
       "      <td>4326.15</td>\n",
       "      <td>4011.79</td>\n",
       "      <td>4292.31</td>\n",
       "      <td>4151.28</td>\n",
       "      <td>4347.69</td>\n",
       "      <td>4586.67</td>\n",
       "      <td>4095.90</td>\n",
       "      <td>4627.69</td>\n",
       "      <td>4210.77</td>\n",
       "      <td>4244.10</td>\n",
       "      <td>4212.82</td>\n",
       "      <td>4288.21</td>\n",
       "      <td>4632.82</td>\n",
       "      <td>4398.46</td>\n",
       "      <td>0</td>\n",
       "    </tr>\n",
       "  </tbody>\n",
       "</table>\n",
       "</div>"
      ],
      "text/plain": [
       "       AF3       F7       F3      FC5       T7       P7       O1       O2  \\\n",
       "0  4329.23  4009.23  4289.23  4148.21  4350.26  4586.15  4096.92  4641.03   \n",
       "1  4324.62  4004.62  4293.85  4148.72  4342.05  4586.67  4097.44  4638.97   \n",
       "2  4327.69  4006.67  4295.38  4156.41  4336.92  4583.59  4096.92  4630.26   \n",
       "3  4328.72  4011.79  4296.41  4155.90  4343.59  4582.56  4097.44  4630.77   \n",
       "4  4326.15  4011.79  4292.31  4151.28  4347.69  4586.67  4095.90  4627.69   \n",
       "\n",
       "        P8       T8      FC6       F4       F8      AF4  result  \n",
       "0  4222.05  4238.46  4211.28  4280.51  4635.90  4393.85       0  \n",
       "1  4210.77  4226.67  4207.69  4279.49  4632.82  4384.10       0  \n",
       "2  4207.69  4222.05  4206.67  4282.05  4628.72  4389.23       0  \n",
       "3  4217.44  4235.38  4210.77  4287.69  4632.31  4396.41       0  \n",
       "4  4210.77  4244.10  4212.82  4288.21  4632.82  4398.46       0  "
      ]
     },
     "execution_count": 2,
     "metadata": {},
     "output_type": "execute_result"
    }
   ],
   "source": [
    "data = pd.read_csv('EEG_Tumour.csv')\n",
    "data.head()"
   ]
  },
  {
   "cell_type": "code",
   "execution_count": 3,
   "id": "78341726",
   "metadata": {},
   "outputs": [
    {
     "data": {
      "text/html": [
       "<div>\n",
       "<style scoped>\n",
       "    .dataframe tbody tr th:only-of-type {\n",
       "        vertical-align: middle;\n",
       "    }\n",
       "\n",
       "    .dataframe tbody tr th {\n",
       "        vertical-align: top;\n",
       "    }\n",
       "\n",
       "    .dataframe thead th {\n",
       "        text-align: right;\n",
       "    }\n",
       "</style>\n",
       "<table border=\"1\" class=\"dataframe\">\n",
       "  <thead>\n",
       "    <tr style=\"text-align: right;\">\n",
       "      <th></th>\n",
       "      <th>AF3</th>\n",
       "      <th>F7</th>\n",
       "      <th>F3</th>\n",
       "      <th>FC5</th>\n",
       "      <th>T7</th>\n",
       "      <th>P7</th>\n",
       "      <th>O1</th>\n",
       "      <th>O2</th>\n",
       "      <th>P8</th>\n",
       "      <th>T8</th>\n",
       "      <th>FC6</th>\n",
       "      <th>F4</th>\n",
       "      <th>F8</th>\n",
       "      <th>AF4</th>\n",
       "      <th>result</th>\n",
       "    </tr>\n",
       "  </thead>\n",
       "  <tbody>\n",
       "    <tr>\n",
       "      <th>14975</th>\n",
       "      <td>4281.03</td>\n",
       "      <td>3990.26</td>\n",
       "      <td>4245.64</td>\n",
       "      <td>4116.92</td>\n",
       "      <td>4333.85</td>\n",
       "      <td>4614.36</td>\n",
       "      <td>4074.87</td>\n",
       "      <td>4625.64</td>\n",
       "      <td>4203.08</td>\n",
       "      <td>4221.54</td>\n",
       "      <td>4171.28</td>\n",
       "      <td>4269.23</td>\n",
       "      <td>4593.33</td>\n",
       "      <td>4340.51</td>\n",
       "      <td>1</td>\n",
       "    </tr>\n",
       "    <tr>\n",
       "      <th>14976</th>\n",
       "      <td>4276.92</td>\n",
       "      <td>3991.79</td>\n",
       "      <td>4245.13</td>\n",
       "      <td>4110.77</td>\n",
       "      <td>4332.82</td>\n",
       "      <td>4615.38</td>\n",
       "      <td>4073.33</td>\n",
       "      <td>4621.54</td>\n",
       "      <td>4194.36</td>\n",
       "      <td>4217.44</td>\n",
       "      <td>4162.56</td>\n",
       "      <td>4259.49</td>\n",
       "      <td>4590.26</td>\n",
       "      <td>4333.33</td>\n",
       "      <td>1</td>\n",
       "    </tr>\n",
       "    <tr>\n",
       "      <th>14977</th>\n",
       "      <td>4277.44</td>\n",
       "      <td>3990.77</td>\n",
       "      <td>4246.67</td>\n",
       "      <td>4113.85</td>\n",
       "      <td>4333.33</td>\n",
       "      <td>4615.38</td>\n",
       "      <td>4072.82</td>\n",
       "      <td>4623.59</td>\n",
       "      <td>4193.33</td>\n",
       "      <td>4212.82</td>\n",
       "      <td>4160.51</td>\n",
       "      <td>4257.95</td>\n",
       "      <td>4591.79</td>\n",
       "      <td>4339.49</td>\n",
       "      <td>1</td>\n",
       "    </tr>\n",
       "    <tr>\n",
       "      <th>14978</th>\n",
       "      <td>4284.62</td>\n",
       "      <td>3991.79</td>\n",
       "      <td>4251.28</td>\n",
       "      <td>4122.05</td>\n",
       "      <td>4334.36</td>\n",
       "      <td>4616.41</td>\n",
       "      <td>4080.51</td>\n",
       "      <td>4628.72</td>\n",
       "      <td>4200.00</td>\n",
       "      <td>4220.00</td>\n",
       "      <td>4165.64</td>\n",
       "      <td>4267.18</td>\n",
       "      <td>4596.41</td>\n",
       "      <td>4350.77</td>\n",
       "      <td>1</td>\n",
       "    </tr>\n",
       "    <tr>\n",
       "      <th>14979</th>\n",
       "      <td>4287.69</td>\n",
       "      <td>3997.44</td>\n",
       "      <td>4260.00</td>\n",
       "      <td>4121.03</td>\n",
       "      <td>4333.33</td>\n",
       "      <td>4616.41</td>\n",
       "      <td>4088.72</td>\n",
       "      <td>4638.46</td>\n",
       "      <td>4212.31</td>\n",
       "      <td>4226.67</td>\n",
       "      <td>4167.69</td>\n",
       "      <td>4274.36</td>\n",
       "      <td>4597.95</td>\n",
       "      <td>4350.77</td>\n",
       "      <td>1</td>\n",
       "    </tr>\n",
       "  </tbody>\n",
       "</table>\n",
       "</div>"
      ],
      "text/plain": [
       "           AF3       F7       F3      FC5       T7       P7       O1       O2  \\\n",
       "14975  4281.03  3990.26  4245.64  4116.92  4333.85  4614.36  4074.87  4625.64   \n",
       "14976  4276.92  3991.79  4245.13  4110.77  4332.82  4615.38  4073.33  4621.54   \n",
       "14977  4277.44  3990.77  4246.67  4113.85  4333.33  4615.38  4072.82  4623.59   \n",
       "14978  4284.62  3991.79  4251.28  4122.05  4334.36  4616.41  4080.51  4628.72   \n",
       "14979  4287.69  3997.44  4260.00  4121.03  4333.33  4616.41  4088.72  4638.46   \n",
       "\n",
       "            P8       T8      FC6       F4       F8      AF4  result  \n",
       "14975  4203.08  4221.54  4171.28  4269.23  4593.33  4340.51       1  \n",
       "14976  4194.36  4217.44  4162.56  4259.49  4590.26  4333.33       1  \n",
       "14977  4193.33  4212.82  4160.51  4257.95  4591.79  4339.49       1  \n",
       "14978  4200.00  4220.00  4165.64  4267.18  4596.41  4350.77       1  \n",
       "14979  4212.31  4226.67  4167.69  4274.36  4597.95  4350.77       1  "
      ]
     },
     "execution_count": 3,
     "metadata": {},
     "output_type": "execute_result"
    }
   ],
   "source": [
    "data.tail()"
   ]
  },
  {
   "cell_type": "code",
   "execution_count": 4,
   "id": "54680233",
   "metadata": {},
   "outputs": [
    {
     "name": "stdout",
     "output_type": "stream",
     "text": [
      "<class 'pandas.core.frame.DataFrame'>\n",
      "RangeIndex: 14980 entries, 0 to 14979\n",
      "Data columns (total 15 columns):\n",
      " #   Column  Non-Null Count  Dtype  \n",
      "---  ------  --------------  -----  \n",
      " 0   AF3     14980 non-null  float64\n",
      " 1   F7      14980 non-null  float64\n",
      " 2   F3      14980 non-null  float64\n",
      " 3   FC5     14980 non-null  float64\n",
      " 4   T7      14980 non-null  float64\n",
      " 5   P7      14980 non-null  float64\n",
      " 6   O1      14980 non-null  float64\n",
      " 7   O2      14980 non-null  float64\n",
      " 8   P8      14980 non-null  float64\n",
      " 9   T8      14980 non-null  float64\n",
      " 10  FC6     14980 non-null  float64\n",
      " 11  F4      14980 non-null  float64\n",
      " 12  F8      14980 non-null  float64\n",
      " 13  AF4     14980 non-null  float64\n",
      " 14  result  14980 non-null  int64  \n",
      "dtypes: float64(14), int64(1)\n",
      "memory usage: 1.7 MB\n"
     ]
    }
   ],
   "source": [
    "data.info()"
   ]
  },
  {
   "cell_type": "code",
   "execution_count": 5,
   "id": "c30a7688",
   "metadata": {},
   "outputs": [
    {
     "data": {
      "text/html": [
       "<div>\n",
       "<style scoped>\n",
       "    .dataframe tbody tr th:only-of-type {\n",
       "        vertical-align: middle;\n",
       "    }\n",
       "\n",
       "    .dataframe tbody tr th {\n",
       "        vertical-align: top;\n",
       "    }\n",
       "\n",
       "    .dataframe thead th {\n",
       "        text-align: right;\n",
       "    }\n",
       "</style>\n",
       "<table border=\"1\" class=\"dataframe\">\n",
       "  <thead>\n",
       "    <tr style=\"text-align: right;\">\n",
       "      <th></th>\n",
       "      <th>AF3</th>\n",
       "      <th>F7</th>\n",
       "      <th>F3</th>\n",
       "      <th>FC5</th>\n",
       "      <th>T7</th>\n",
       "      <th>P7</th>\n",
       "      <th>O1</th>\n",
       "      <th>O2</th>\n",
       "      <th>P8</th>\n",
       "      <th>T8</th>\n",
       "      <th>FC6</th>\n",
       "      <th>F4</th>\n",
       "      <th>F8</th>\n",
       "      <th>AF4</th>\n",
       "      <th>result</th>\n",
       "    </tr>\n",
       "  </thead>\n",
       "  <tbody>\n",
       "    <tr>\n",
       "      <th>count</th>\n",
       "      <td>14980.000000</td>\n",
       "      <td>14980.000000</td>\n",
       "      <td>14980.000000</td>\n",
       "      <td>14980.000000</td>\n",
       "      <td>14980.000000</td>\n",
       "      <td>14980.000000</td>\n",
       "      <td>14980.000000</td>\n",
       "      <td>14980.000000</td>\n",
       "      <td>14980.000000</td>\n",
       "      <td>14980.000000</td>\n",
       "      <td>14980.000000</td>\n",
       "      <td>14980.000000</td>\n",
       "      <td>14980.000000</td>\n",
       "      <td>14980.000000</td>\n",
       "      <td>14980.000000</td>\n",
       "    </tr>\n",
       "    <tr>\n",
       "      <th>mean</th>\n",
       "      <td>4321.917777</td>\n",
       "      <td>4009.767694</td>\n",
       "      <td>4264.022433</td>\n",
       "      <td>4164.946326</td>\n",
       "      <td>4341.741075</td>\n",
       "      <td>4644.022379</td>\n",
       "      <td>4110.400160</td>\n",
       "      <td>4616.056904</td>\n",
       "      <td>4218.826610</td>\n",
       "      <td>4231.316200</td>\n",
       "      <td>4202.456900</td>\n",
       "      <td>4279.232774</td>\n",
       "      <td>4615.205336</td>\n",
       "      <td>4416.435832</td>\n",
       "      <td>0.448798</td>\n",
       "    </tr>\n",
       "    <tr>\n",
       "      <th>std</th>\n",
       "      <td>2492.072174</td>\n",
       "      <td>45.941672</td>\n",
       "      <td>44.428052</td>\n",
       "      <td>5216.404632</td>\n",
       "      <td>34.738821</td>\n",
       "      <td>2924.789537</td>\n",
       "      <td>4600.926543</td>\n",
       "      <td>29.292603</td>\n",
       "      <td>2136.408523</td>\n",
       "      <td>38.050903</td>\n",
       "      <td>37.785981</td>\n",
       "      <td>41.544312</td>\n",
       "      <td>1208.369958</td>\n",
       "      <td>5891.285043</td>\n",
       "      <td>0.497388</td>\n",
       "    </tr>\n",
       "    <tr>\n",
       "      <th>min</th>\n",
       "      <td>1030.770000</td>\n",
       "      <td>2830.770000</td>\n",
       "      <td>1040.000000</td>\n",
       "      <td>2453.330000</td>\n",
       "      <td>2089.740000</td>\n",
       "      <td>2768.210000</td>\n",
       "      <td>2086.150000</td>\n",
       "      <td>4567.180000</td>\n",
       "      <td>1357.950000</td>\n",
       "      <td>1816.410000</td>\n",
       "      <td>3273.330000</td>\n",
       "      <td>2257.950000</td>\n",
       "      <td>86.666700</td>\n",
       "      <td>1366.150000</td>\n",
       "      <td>0.000000</td>\n",
       "    </tr>\n",
       "    <tr>\n",
       "      <th>25%</th>\n",
       "      <td>4280.510000</td>\n",
       "      <td>3990.770000</td>\n",
       "      <td>4250.260000</td>\n",
       "      <td>4108.210000</td>\n",
       "      <td>4331.790000</td>\n",
       "      <td>4611.790000</td>\n",
       "      <td>4057.950000</td>\n",
       "      <td>4604.620000</td>\n",
       "      <td>4190.770000</td>\n",
       "      <td>4220.510000</td>\n",
       "      <td>4190.260000</td>\n",
       "      <td>4267.690000</td>\n",
       "      <td>4590.770000</td>\n",
       "      <td>4342.050000</td>\n",
       "      <td>0.000000</td>\n",
       "    </tr>\n",
       "    <tr>\n",
       "      <th>50%</th>\n",
       "      <td>4294.360000</td>\n",
       "      <td>4005.640000</td>\n",
       "      <td>4262.560000</td>\n",
       "      <td>4120.510000</td>\n",
       "      <td>4338.970000</td>\n",
       "      <td>4617.950000</td>\n",
       "      <td>4070.260000</td>\n",
       "      <td>4613.330000</td>\n",
       "      <td>4199.490000</td>\n",
       "      <td>4229.230000</td>\n",
       "      <td>4200.510000</td>\n",
       "      <td>4276.920000</td>\n",
       "      <td>4603.080000</td>\n",
       "      <td>4354.870000</td>\n",
       "      <td>0.000000</td>\n",
       "    </tr>\n",
       "    <tr>\n",
       "      <th>75%</th>\n",
       "      <td>4311.790000</td>\n",
       "      <td>4023.080000</td>\n",
       "      <td>4270.770000</td>\n",
       "      <td>4132.310000</td>\n",
       "      <td>4347.180000</td>\n",
       "      <td>4626.670000</td>\n",
       "      <td>4083.590000</td>\n",
       "      <td>4624.100000</td>\n",
       "      <td>4209.230000</td>\n",
       "      <td>4239.490000</td>\n",
       "      <td>4211.280000</td>\n",
       "      <td>4287.180000</td>\n",
       "      <td>4617.440000</td>\n",
       "      <td>4372.820000</td>\n",
       "      <td>1.000000</td>\n",
       "    </tr>\n",
       "    <tr>\n",
       "      <th>max</th>\n",
       "      <td>309231.000000</td>\n",
       "      <td>7804.620000</td>\n",
       "      <td>6880.510000</td>\n",
       "      <td>642564.000000</td>\n",
       "      <td>6474.360000</td>\n",
       "      <td>362564.000000</td>\n",
       "      <td>567179.000000</td>\n",
       "      <td>7264.100000</td>\n",
       "      <td>265641.000000</td>\n",
       "      <td>6674.360000</td>\n",
       "      <td>6823.080000</td>\n",
       "      <td>7002.560000</td>\n",
       "      <td>152308.000000</td>\n",
       "      <td>715897.000000</td>\n",
       "      <td>1.000000</td>\n",
       "    </tr>\n",
       "  </tbody>\n",
       "</table>\n",
       "</div>"
      ],
      "text/plain": [
       "                 AF3            F7            F3            FC5            T7  \\\n",
       "count   14980.000000  14980.000000  14980.000000   14980.000000  14980.000000   \n",
       "mean     4321.917777   4009.767694   4264.022433    4164.946326   4341.741075   \n",
       "std      2492.072174     45.941672     44.428052    5216.404632     34.738821   \n",
       "min      1030.770000   2830.770000   1040.000000    2453.330000   2089.740000   \n",
       "25%      4280.510000   3990.770000   4250.260000    4108.210000   4331.790000   \n",
       "50%      4294.360000   4005.640000   4262.560000    4120.510000   4338.970000   \n",
       "75%      4311.790000   4023.080000   4270.770000    4132.310000   4347.180000   \n",
       "max    309231.000000   7804.620000   6880.510000  642564.000000   6474.360000   \n",
       "\n",
       "                  P7             O1            O2             P8  \\\n",
       "count   14980.000000   14980.000000  14980.000000   14980.000000   \n",
       "mean     4644.022379    4110.400160   4616.056904    4218.826610   \n",
       "std      2924.789537    4600.926543     29.292603    2136.408523   \n",
       "min      2768.210000    2086.150000   4567.180000    1357.950000   \n",
       "25%      4611.790000    4057.950000   4604.620000    4190.770000   \n",
       "50%      4617.950000    4070.260000   4613.330000    4199.490000   \n",
       "75%      4626.670000    4083.590000   4624.100000    4209.230000   \n",
       "max    362564.000000  567179.000000   7264.100000  265641.000000   \n",
       "\n",
       "                 T8           FC6            F4             F8            AF4  \\\n",
       "count  14980.000000  14980.000000  14980.000000   14980.000000   14980.000000   \n",
       "mean    4231.316200   4202.456900   4279.232774    4615.205336    4416.435832   \n",
       "std       38.050903     37.785981     41.544312    1208.369958    5891.285043   \n",
       "min     1816.410000   3273.330000   2257.950000      86.666700    1366.150000   \n",
       "25%     4220.510000   4190.260000   4267.690000    4590.770000    4342.050000   \n",
       "50%     4229.230000   4200.510000   4276.920000    4603.080000    4354.870000   \n",
       "75%     4239.490000   4211.280000   4287.180000    4617.440000    4372.820000   \n",
       "max     6674.360000   6823.080000   7002.560000  152308.000000  715897.000000   \n",
       "\n",
       "             result  \n",
       "count  14980.000000  \n",
       "mean       0.448798  \n",
       "std        0.497388  \n",
       "min        0.000000  \n",
       "25%        0.000000  \n",
       "50%        0.000000  \n",
       "75%        1.000000  \n",
       "max        1.000000  "
      ]
     },
     "execution_count": 5,
     "metadata": {},
     "output_type": "execute_result"
    }
   ],
   "source": [
    "data.describe()"
   ]
  },
  {
   "cell_type": "code",
   "execution_count": 6,
   "id": "818b9498",
   "metadata": {},
   "outputs": [
    {
     "data": {
      "text/plain": [
       "AF3       float64\n",
       "F7        float64\n",
       "F3        float64\n",
       "FC5       float64\n",
       "T7        float64\n",
       "P7        float64\n",
       "O1        float64\n",
       "O2        float64\n",
       "P8        float64\n",
       "T8        float64\n",
       "FC6       float64\n",
       "F4        float64\n",
       "F8        float64\n",
       "AF4       float64\n",
       "result      int64\n",
       "dtype: object"
      ]
     },
     "execution_count": 6,
     "metadata": {},
     "output_type": "execute_result"
    }
   ],
   "source": [
    "data.dtypes"
   ]
  },
  {
   "cell_type": "code",
   "execution_count": 7,
   "id": "e2eb6c4c",
   "metadata": {},
   "outputs": [
    {
     "data": {
      "text/plain": [
       "(14980, 15)"
      ]
     },
     "execution_count": 7,
     "metadata": {},
     "output_type": "execute_result"
    }
   ],
   "source": [
    "data.shape"
   ]
  },
  {
   "cell_type": "code",
   "execution_count": 8,
   "id": "45f6abe5",
   "metadata": {},
   "outputs": [
    {
     "data": {
      "text/plain": [
       "AF3       0\n",
       "F7        0\n",
       "F3        0\n",
       "FC5       0\n",
       "T7        0\n",
       "P7        0\n",
       "O1        0\n",
       "O2        0\n",
       "P8        0\n",
       "T8        0\n",
       "FC6       0\n",
       "F4        0\n",
       "F8        0\n",
       "AF4       0\n",
       "result    0\n",
       "dtype: int64"
      ]
     },
     "execution_count": 8,
     "metadata": {},
     "output_type": "execute_result"
    }
   ],
   "source": [
    "data.isnull().sum()"
   ]
  },
  {
   "cell_type": "code",
   "execution_count": 9,
   "id": "6f8eee9f",
   "metadata": {},
   "outputs": [
    {
     "data": {
      "text/plain": [
       "0"
      ]
     },
     "execution_count": 9,
     "metadata": {},
     "output_type": "execute_result"
    }
   ],
   "source": [
    "data.duplicated().sum()\n"
   ]
  },
  {
   "cell_type": "code",
   "execution_count": 10,
   "id": "2637cdd1",
   "metadata": {},
   "outputs": [
    {
     "data": {
      "text/plain": [
       "AF3       4321.917777\n",
       "F7        4009.767694\n",
       "F3        4264.022433\n",
       "FC5       4164.946326\n",
       "T7        4341.741075\n",
       "P7        4644.022379\n",
       "O1        4110.400160\n",
       "O2        4616.056904\n",
       "P8        4218.826610\n",
       "T8        4231.316200\n",
       "FC6       4202.456900\n",
       "F4        4279.232774\n",
       "F8        4615.205336\n",
       "AF4       4416.435832\n",
       "result       0.448798\n",
       "dtype: float64"
      ]
     },
     "execution_count": 10,
     "metadata": {},
     "output_type": "execute_result"
    }
   ],
   "source": [
    "data.mean()"
   ]
  },
  {
   "cell_type": "code",
   "execution_count": 11,
   "id": "73fe14f0",
   "metadata": {},
   "outputs": [
    {
     "data": {
      "text/plain": [
       "AF3       309231.00\n",
       "F7          7804.62\n",
       "F3          6880.51\n",
       "FC5       642564.00\n",
       "T7          6474.36\n",
       "P7        362564.00\n",
       "O1        567179.00\n",
       "O2          7264.10\n",
       "P8        265641.00\n",
       "T8          6674.36\n",
       "FC6         6823.08\n",
       "F4          7002.56\n",
       "F8        152308.00\n",
       "AF4       715897.00\n",
       "result         1.00\n",
       "dtype: float64"
      ]
     },
     "execution_count": 11,
     "metadata": {},
     "output_type": "execute_result"
    }
   ],
   "source": [
    "data.max()"
   ]
  },
  {
   "cell_type": "code",
   "execution_count": 12,
   "id": "886d2b64",
   "metadata": {},
   "outputs": [
    {
     "data": {
      "text/plain": [
       "AF3       1030.7700\n",
       "F7        2830.7700\n",
       "F3        1040.0000\n",
       "FC5       2453.3300\n",
       "T7        2089.7400\n",
       "P7        2768.2100\n",
       "O1        2086.1500\n",
       "O2        4567.1800\n",
       "P8        1357.9500\n",
       "T8        1816.4100\n",
       "FC6       3273.3300\n",
       "F4        2257.9500\n",
       "F8          86.6667\n",
       "AF4       1366.1500\n",
       "result       0.0000\n",
       "dtype: float64"
      ]
     },
     "execution_count": 12,
     "metadata": {},
     "output_type": "execute_result"
    }
   ],
   "source": [
    "data.min()"
   ]
  },
  {
   "cell_type": "code",
   "execution_count": 13,
   "id": "5e6c5661",
   "metadata": {},
   "outputs": [
    {
     "data": {
      "text/plain": [
       "AF3       6.210424e+06\n",
       "F7        2.110637e+03\n",
       "F3        1.973852e+03\n",
       "FC5       2.721088e+07\n",
       "T7        1.206786e+03\n",
       "P7        8.554394e+06\n",
       "O1        2.116853e+07\n",
       "O2        8.580566e+02\n",
       "P8        4.564241e+06\n",
       "T8        1.447871e+03\n",
       "FC6       1.427780e+03\n",
       "F4        1.725930e+03\n",
       "F8        1.460158e+06\n",
       "AF4       3.470724e+07\n",
       "result    2.473949e-01\n",
       "dtype: float64"
      ]
     },
     "execution_count": 13,
     "metadata": {},
     "output_type": "execute_result"
    }
   ],
   "source": [
    "data.var()"
   ]
  },
  {
   "cell_type": "code",
   "execution_count": 14,
   "id": "989d6fbb",
   "metadata": {},
   "outputs": [
    {
     "data": {
      "text/plain": [
       "AF3       2492.072174\n",
       "F7          45.941672\n",
       "F3          44.428052\n",
       "FC5       5216.404632\n",
       "T7          34.738821\n",
       "P7        2924.789537\n",
       "O1        4600.926543\n",
       "O2          29.292603\n",
       "P8        2136.408523\n",
       "T8          38.050903\n",
       "FC6         37.785981\n",
       "F4          41.544312\n",
       "F8        1208.369958\n",
       "AF4       5891.285043\n",
       "result       0.497388\n",
       "dtype: float64"
      ]
     },
     "execution_count": 14,
     "metadata": {},
     "output_type": "execute_result"
    }
   ],
   "source": [
    "data.std()"
   ]
  },
  {
   "cell_type": "code",
   "execution_count": 15,
   "id": "0eb0e4bc",
   "metadata": {},
   "outputs": [
    {
     "name": "stdout",
     "output_type": "stream",
     "text": [
      "[122.2816192   39.04264771 -13.61379737 122.37552143   7.5611449\n",
      " 122.35055759 122.37133779  51.09210233 122.32242106  10.22967656\n",
      "  31.64583561  26.55380958 121.89506508 118.1132164    0.20588877]\n"
     ]
    }
   ],
   "source": [
    "print(skew(data, axis=0, bias=True))"
   ]
  },
  {
   "cell_type": "code",
   "execution_count": 16,
   "id": "0ca5de1b",
   "metadata": {},
   "outputs": [
    {
     "name": "stdout",
     "output_type": "stream",
     "text": [
      "[ 1.49588455e+04  3.20910013e+03  2.92099210e+03  1.49741791e+04\n",
      "  2.57736882e+03  1.49700906e+04  1.49734959e+04  4.48961475e+03\n",
      "  1.49655131e+04  2.70917855e+03  2.05583430e+03  2.71381221e+03\n",
      "  1.48969371e+04  1.42095320e+04 -1.95760981e+00]\n"
     ]
    }
   ],
   "source": [
    "print(kurtosis(data, axis=0, bias=True))"
   ]
  },
  {
   "cell_type": "code",
   "execution_count": 17,
   "id": "55b72f86",
   "metadata": {},
   "outputs": [
    {
     "data": {
      "text/plain": [
       "2"
      ]
     },
     "execution_count": 17,
     "metadata": {},
     "output_type": "execute_result"
    }
   ],
   "source": [
    "data.ndim"
   ]
  },
  {
   "cell_type": "code",
   "execution_count": 18,
   "id": "af5b6314",
   "metadata": {},
   "outputs": [
    {
     "data": {
      "image/png": "[encoded data removed]",
      "text/plain": [
       "<Figure size 640x480 with 1 Axes>"
      ]
     },
     "metadata": {},
     "output_type": "display_data"
    }
   ],
   "source": [
    "data = pd.DataFrame(data)\n",
    "plt.hist(data)\n",
    "plt.title(' Data Histogram ')\n",
    "\n",
    "# Show the plot\n",
    "plt.show()"
   ]
  },
  {
   "cell_type": "code",
   "execution_count": 19,
   "id": "260ec8f4",
   "metadata": {},
   "outputs": [
    {
     "name": "stdout",
     "output_type": "stream",
     "text": [
      "Covariance Matrix: [[1276941.87592095 1275899.20401286 1275309.44860476 ... 1269201.33978619\n",
      "  1270762.85992667 1271908.8966581 ]\n",
      " [1275899.20401286 1274879.94918857 1274295.11619286 ... 1268183.21013714\n",
      "  1269741.04107286 1270885.77171   ]\n",
      " [1275309.44860476 1274295.11619286 1273729.1459381  ... 1267559.00299524\n",
      "  1269122.87723333 1270261.78969048]\n",
      " ...\n",
      " [1269201.33978619 1268183.21013714 1267559.00299524 ... 1261943.72166381\n",
      "  1263458.78744476 1264596.3094419 ]\n",
      " [1270762.85992667 1269741.04107286 1269122.87723333 ... 1263458.78744476\n",
      "  1264985.14800667 1266126.17728952]\n",
      " [1271908.8966581  1270885.77171    1270261.78969048 ... 1264596.3094419\n",
      "  1266126.17728952 1267286.53184095]]\n"
     ]
    }
   ],
   "source": [
    "# covariance matrix \n",
    "covariance_matrix = np.cov(data)\n",
    "\n",
    "print(\"Covariance Matrix:\", covariance_matrix)"
   ]
  },
  {
   "cell_type": "code",
   "execution_count": 20,
   "id": "48511abb",
   "metadata": {},
   "outputs": [
    {
     "name": "stdout",
     "output_type": "stream",
     "text": [
      "Chi-square: 15792143.7007\n"
     ]
    }
   ],
   "source": [
    "# chi-square\n",
    "from scipy.stats import chi2_contingency\n",
    "chi2_stat, p_value, dof, expected = chi2_contingency(data)\n",
    "print(f\"Chi-square: {chi2_stat:.4f}\")"
   ]
  },
  {
   "cell_type": "code",
   "execution_count": 21,
   "id": "281ed711",
   "metadata": {},
   "outputs": [
    {
     "name": "stdout",
     "output_type": "stream",
     "text": [
      "          AF3        F7        F3       FC5        T7        P7        O1  \\\n",
      "AF3  1.000000  0.261146  0.474569  0.012173  0.278938  0.007958  0.006630   \n",
      "F7   0.261146  1.000000  0.583317 -0.208922 -0.250816 -0.042288 -0.210591   \n",
      "F3   0.474569  0.583317  1.000000 -0.330162 -0.272186 -0.596566 -0.335514   \n",
      "FC5  0.012173 -0.208922 -0.330162  1.000000  0.504616  0.009049  0.999961   \n",
      "T7   0.278938 -0.250816 -0.272186  0.504616  1.000000  0.409277  0.504231   \n",
      "P7   0.007958 -0.042288 -0.596566  0.009049  0.409277  1.000000  0.013707   \n",
      "O1   0.006630 -0.210591 -0.335514  0.999961  0.504231  0.013707  1.000000   \n",
      "O2   0.040539  0.517816  0.221270  0.130482 -0.030063  0.208167  0.133434   \n",
      "P8   0.999607  0.264922  0.486506  0.013228  0.264913 -0.012528  0.007638   \n",
      "T8  -0.070801  0.489010  0.191273 -0.519498 -0.225508  0.420539 -0.515699   \n",
      "FC6  0.572997  0.317418  0.517950  0.420311  0.336173 -0.196873  0.417041   \n",
      "F4  -0.394334  0.275977  0.116761  0.515388 -0.095902 -0.229149  0.517621   \n",
      "F8   0.998714  0.251327  0.500276 -0.005351  0.267107 -0.030921 -0.011080   \n",
      "AF4  0.012070 -0.071895 -0.637363  0.161155  0.478852  0.988310  0.165730   \n",
      "\n",
      "           O2        P8        T8       FC6        F4        F8       AF4  \n",
      "AF3  0.040539  0.999607 -0.070801  0.572997 -0.394334  0.998714  0.012070  \n",
      "F7   0.517816  0.264922  0.489010  0.317418  0.275977  0.251327 -0.071895  \n",
      "F3   0.221270  0.486506  0.191273  0.517950  0.116761  0.500276 -0.637363  \n",
      "FC5  0.130482  0.013228 -0.519498  0.420311  0.515388 -0.005351  0.161155  \n",
      "T7  -0.030063  0.264913 -0.225508  0.336173 -0.095902  0.267107  0.478852  \n",
      "P7   0.208167 -0.012528  0.420539 -0.196873 -0.229149 -0.030921  0.988310  \n",
      "O1   0.133434  0.007638 -0.515699  0.417041  0.517621 -0.011080  0.165730  \n",
      "O2   1.000000  0.047843  0.640387  0.433333  0.577013  0.020493  0.224627  \n",
      "P8   0.047843  1.000000 -0.074047  0.577472 -0.385643  0.998849 -0.008055  \n",
      "T8   0.640387 -0.074047  1.000000  0.038252  0.132692 -0.082256  0.336282  \n",
      "FC6  0.433333  0.577472  0.038252  1.000000  0.411682  0.577408 -0.127763  \n",
      "F4   0.577013 -0.385643  0.132692  0.411682  1.000000 -0.399400 -0.146960  \n",
      "F8   0.020493  0.998849 -0.082256  0.577408 -0.399400  1.000000 -0.028968  \n",
      "AF4  0.224627 -0.008055  0.336282 -0.127763 -0.146960 -0.028968  1.000000  \n"
     ]
    }
   ],
   "source": [
    "# correlation\n",
    "columns = ['AF3', 'F7','F3','FC5', 'T7', 'P7','O1','O2','P8','T8','FC6','F4','F8','AF4']\n",
    "corr_matrix = data[columns].corr()\n",
    "print(corr_matrix)"
   ]
  },
  {
   "cell_type": "code",
   "execution_count": 22,
   "id": "fe3b4be4",
   "metadata": {},
   "outputs": [
    {
     "data": {
      "text/html": [
       "<div>\n",
       "<style scoped>\n",
       "    .dataframe tbody tr th:only-of-type {\n",
       "        vertical-align: middle;\n",
       "    }\n",
       "\n",
       "    .dataframe tbody tr th {\n",
       "        vertical-align: top;\n",
       "    }\n",
       "\n",
       "    .dataframe thead th {\n",
       "        text-align: right;\n",
       "    }\n",
       "</style>\n",
       "<table border=\"1\" class=\"dataframe\">\n",
       "  <thead>\n",
       "    <tr style=\"text-align: right;\">\n",
       "      <th></th>\n",
       "      <th>AF3</th>\n",
       "      <th>F7</th>\n",
       "      <th>F3</th>\n",
       "      <th>FC5</th>\n",
       "      <th>T7</th>\n",
       "      <th>P7</th>\n",
       "      <th>O1</th>\n",
       "      <th>O2</th>\n",
       "      <th>P8</th>\n",
       "      <th>T8</th>\n",
       "      <th>FC6</th>\n",
       "      <th>F4</th>\n",
       "      <th>F8</th>\n",
       "      <th>AF4</th>\n",
       "      <th>result</th>\n",
       "    </tr>\n",
       "  </thead>\n",
       "  <tbody>\n",
       "    <tr>\n",
       "      <th>AF3</th>\n",
       "      <td>1.000000</td>\n",
       "      <td>0.261146</td>\n",
       "      <td>0.474569</td>\n",
       "      <td>0.012173</td>\n",
       "      <td>0.278938</td>\n",
       "      <td>0.007958</td>\n",
       "      <td>0.006630</td>\n",
       "      <td>0.040539</td>\n",
       "      <td>0.999607</td>\n",
       "      <td>-0.070801</td>\n",
       "      <td>0.572997</td>\n",
       "      <td>-0.394334</td>\n",
       "      <td>0.998714</td>\n",
       "      <td>0.012070</td>\n",
       "      <td>0.010458</td>\n",
       "    </tr>\n",
       "    <tr>\n",
       "      <th>F7</th>\n",
       "      <td>0.261146</td>\n",
       "      <td>1.000000</td>\n",
       "      <td>0.583317</td>\n",
       "      <td>-0.208922</td>\n",
       "      <td>-0.250816</td>\n",
       "      <td>-0.042288</td>\n",
       "      <td>-0.210591</td>\n",
       "      <td>0.517816</td>\n",
       "      <td>0.264922</td>\n",
       "      <td>0.489010</td>\n",
       "      <td>0.317418</td>\n",
       "      <td>0.275977</td>\n",
       "      <td>0.251327</td>\n",
       "      <td>-0.071895</td>\n",
       "      <td>-0.079994</td>\n",
       "    </tr>\n",
       "    <tr>\n",
       "      <th>F3</th>\n",
       "      <td>0.474569</td>\n",
       "      <td>0.583317</td>\n",
       "      <td>1.000000</td>\n",
       "      <td>-0.330162</td>\n",
       "      <td>-0.272186</td>\n",
       "      <td>-0.596566</td>\n",
       "      <td>-0.335514</td>\n",
       "      <td>0.221270</td>\n",
       "      <td>0.486506</td>\n",
       "      <td>0.191273</td>\n",
       "      <td>0.517950</td>\n",
       "      <td>0.116761</td>\n",
       "      <td>0.500276</td>\n",
       "      <td>-0.637363</td>\n",
       "      <td>0.038902</td>\n",
       "    </tr>\n",
       "    <tr>\n",
       "      <th>FC5</th>\n",
       "      <td>0.012173</td>\n",
       "      <td>-0.208922</td>\n",
       "      <td>-0.330162</td>\n",
       "      <td>1.000000</td>\n",
       "      <td>0.504616</td>\n",
       "      <td>0.009049</td>\n",
       "      <td>0.999961</td>\n",
       "      <td>0.130482</td>\n",
       "      <td>0.013228</td>\n",
       "      <td>-0.519498</td>\n",
       "      <td>0.420311</td>\n",
       "      <td>0.515388</td>\n",
       "      <td>-0.005351</td>\n",
       "      <td>0.161155</td>\n",
       "      <td>-0.007531</td>\n",
       "    </tr>\n",
       "    <tr>\n",
       "      <th>T7</th>\n",
       "      <td>0.278938</td>\n",
       "      <td>-0.250816</td>\n",
       "      <td>-0.272186</td>\n",
       "      <td>0.504616</td>\n",
       "      <td>1.000000</td>\n",
       "      <td>0.409277</td>\n",
       "      <td>0.504231</td>\n",
       "      <td>-0.030063</td>\n",
       "      <td>0.264913</td>\n",
       "      <td>-0.225508</td>\n",
       "      <td>0.336173</td>\n",
       "      <td>-0.095902</td>\n",
       "      <td>0.267107</td>\n",
       "      <td>0.478852</td>\n",
       "      <td>-0.000369</td>\n",
       "    </tr>\n",
       "    <tr>\n",
       "      <th>P7</th>\n",
       "      <td>0.007958</td>\n",
       "      <td>-0.042288</td>\n",
       "      <td>-0.596566</td>\n",
       "      <td>0.009049</td>\n",
       "      <td>0.409277</td>\n",
       "      <td>1.000000</td>\n",
       "      <td>0.013707</td>\n",
       "      <td>0.208167</td>\n",
       "      <td>-0.012528</td>\n",
       "      <td>0.420539</td>\n",
       "      <td>-0.196873</td>\n",
       "      <td>-0.229149</td>\n",
       "      <td>-0.030921</td>\n",
       "      <td>0.988310</td>\n",
       "      <td>-0.007845</td>\n",
       "    </tr>\n",
       "    <tr>\n",
       "      <th>O1</th>\n",
       "      <td>0.006630</td>\n",
       "      <td>-0.210591</td>\n",
       "      <td>-0.335514</td>\n",
       "      <td>0.999961</td>\n",
       "      <td>0.504231</td>\n",
       "      <td>0.013707</td>\n",
       "      <td>1.000000</td>\n",
       "      <td>0.133434</td>\n",
       "      <td>0.007638</td>\n",
       "      <td>-0.515699</td>\n",
       "      <td>0.417041</td>\n",
       "      <td>0.517621</td>\n",
       "      <td>-0.011080</td>\n",
       "      <td>0.165730</td>\n",
       "      <td>-0.007223</td>\n",
       "    </tr>\n",
       "    <tr>\n",
       "      <th>O2</th>\n",
       "      <td>0.040539</td>\n",
       "      <td>0.517816</td>\n",
       "      <td>0.221270</td>\n",
       "      <td>0.130482</td>\n",
       "      <td>-0.030063</td>\n",
       "      <td>0.208167</td>\n",
       "      <td>0.133434</td>\n",
       "      <td>1.000000</td>\n",
       "      <td>0.047843</td>\n",
       "      <td>0.640387</td>\n",
       "      <td>0.433333</td>\n",
       "      <td>0.577013</td>\n",
       "      <td>0.020493</td>\n",
       "      <td>0.224627</td>\n",
       "      <td>0.025100</td>\n",
       "    </tr>\n",
       "    <tr>\n",
       "      <th>P8</th>\n",
       "      <td>0.999607</td>\n",
       "      <td>0.264922</td>\n",
       "      <td>0.486506</td>\n",
       "      <td>0.013228</td>\n",
       "      <td>0.264913</td>\n",
       "      <td>-0.012528</td>\n",
       "      <td>0.007638</td>\n",
       "      <td>0.047843</td>\n",
       "      <td>1.000000</td>\n",
       "      <td>-0.074047</td>\n",
       "      <td>0.577472</td>\n",
       "      <td>-0.385643</td>\n",
       "      <td>0.998849</td>\n",
       "      <td>-0.008055</td>\n",
       "      <td>0.009576</td>\n",
       "    </tr>\n",
       "    <tr>\n",
       "      <th>T8</th>\n",
       "      <td>-0.070801</td>\n",
       "      <td>0.489010</td>\n",
       "      <td>0.191273</td>\n",
       "      <td>-0.519498</td>\n",
       "      <td>-0.225508</td>\n",
       "      <td>0.420539</td>\n",
       "      <td>-0.515699</td>\n",
       "      <td>0.640387</td>\n",
       "      <td>-0.074047</td>\n",
       "      <td>1.000000</td>\n",
       "      <td>0.038252</td>\n",
       "      <td>0.132692</td>\n",
       "      <td>-0.082256</td>\n",
       "      <td>0.336282</td>\n",
       "      <td>0.047218</td>\n",
       "    </tr>\n",
       "    <tr>\n",
       "      <th>FC6</th>\n",
       "      <td>0.572997</td>\n",
       "      <td>0.317418</td>\n",
       "      <td>0.517950</td>\n",
       "      <td>0.420311</td>\n",
       "      <td>0.336173</td>\n",
       "      <td>-0.196873</td>\n",
       "      <td>0.417041</td>\n",
       "      <td>0.433333</td>\n",
       "      <td>0.577472</td>\n",
       "      <td>0.038252</td>\n",
       "      <td>1.000000</td>\n",
       "      <td>0.411682</td>\n",
       "      <td>0.577408</td>\n",
       "      <td>-0.127763</td>\n",
       "      <td>0.064294</td>\n",
       "    </tr>\n",
       "    <tr>\n",
       "      <th>F4</th>\n",
       "      <td>-0.394334</td>\n",
       "      <td>0.275977</td>\n",
       "      <td>0.116761</td>\n",
       "      <td>0.515388</td>\n",
       "      <td>-0.095902</td>\n",
       "      <td>-0.229149</td>\n",
       "      <td>0.517621</td>\n",
       "      <td>0.577013</td>\n",
       "      <td>-0.385643</td>\n",
       "      <td>0.132692</td>\n",
       "      <td>0.411682</td>\n",
       "      <td>1.000000</td>\n",
       "      <td>-0.399400</td>\n",
       "      <td>-0.146960</td>\n",
       "      <td>0.047965</td>\n",
       "    </tr>\n",
       "    <tr>\n",
       "      <th>F8</th>\n",
       "      <td>0.998714</td>\n",
       "      <td>0.251327</td>\n",
       "      <td>0.500276</td>\n",
       "      <td>-0.005351</td>\n",
       "      <td>0.267107</td>\n",
       "      <td>-0.030921</td>\n",
       "      <td>-0.011080</td>\n",
       "      <td>0.020493</td>\n",
       "      <td>0.998849</td>\n",
       "      <td>-0.082256</td>\n",
       "      <td>0.577408</td>\n",
       "      <td>-0.399400</td>\n",
       "      <td>1.000000</td>\n",
       "      <td>-0.028968</td>\n",
       "      <td>0.013120</td>\n",
       "    </tr>\n",
       "    <tr>\n",
       "      <th>AF4</th>\n",
       "      <td>0.012070</td>\n",
       "      <td>-0.071895</td>\n",
       "      <td>-0.637363</td>\n",
       "      <td>0.161155</td>\n",
       "      <td>0.478852</td>\n",
       "      <td>0.988310</td>\n",
       "      <td>0.165730</td>\n",
       "      <td>0.224627</td>\n",
       "      <td>-0.008055</td>\n",
       "      <td>0.336282</td>\n",
       "      <td>-0.127763</td>\n",
       "      <td>-0.146960</td>\n",
       "      <td>-0.028968</td>\n",
       "      <td>1.000000</td>\n",
       "      <td>-0.007550</td>\n",
       "    </tr>\n",
       "    <tr>\n",
       "      <th>result</th>\n",
       "      <td>0.010458</td>\n",
       "      <td>-0.079994</td>\n",
       "      <td>0.038902</td>\n",
       "      <td>-0.007531</td>\n",
       "      <td>-0.000369</td>\n",
       "      <td>-0.007845</td>\n",
       "      <td>-0.007223</td>\n",
       "      <td>0.025100</td>\n",
       "      <td>0.009576</td>\n",
       "      <td>0.047218</td>\n",
       "      <td>0.064294</td>\n",
       "      <td>0.047965</td>\n",
       "      <td>0.013120</td>\n",
       "      <td>-0.007550</td>\n",
       "      <td>1.000000</td>\n",
       "    </tr>\n",
       "  </tbody>\n",
       "</table>\n",
       "</div>"
      ],
      "text/plain": [
       "             AF3        F7        F3       FC5        T7        P7        O1  \\\n",
       "AF3     1.000000  0.261146  0.474569  0.012173  0.278938  0.007958  0.006630   \n",
       "F7      0.261146  1.000000  0.583317 -0.208922 -0.250816 -0.042288 -0.210591   \n",
       "F3      0.474569  0.583317  1.000000 -0.330162 -0.272186 -0.596566 -0.335514   \n",
       "FC5     0.012173 -0.208922 -0.330162  1.000000  0.504616  0.009049  0.999961   \n",
       "T7      0.278938 -0.250816 -0.272186  0.504616  1.000000  0.409277  0.504231   \n",
       "P7      0.007958 -0.042288 -0.596566  0.009049  0.409277  1.000000  0.013707   \n",
       "O1      0.006630 -0.210591 -0.335514  0.999961  0.504231  0.013707  1.000000   \n",
       "O2      0.040539  0.517816  0.221270  0.130482 -0.030063  0.208167  0.133434   \n",
       "P8      0.999607  0.264922  0.486506  0.013228  0.264913 -0.012528  0.007638   \n",
       "T8     -0.070801  0.489010  0.191273 -0.519498 -0.225508  0.420539 -0.515699   \n",
       "FC6     0.572997  0.317418  0.517950  0.420311  0.336173 -0.196873  0.417041   \n",
       "F4     -0.394334  0.275977  0.116761  0.515388 -0.095902 -0.229149  0.517621   \n",
       "F8      0.998714  0.251327  0.500276 -0.005351  0.267107 -0.030921 -0.011080   \n",
       "AF4     0.012070 -0.071895 -0.637363  0.161155  0.478852  0.988310  0.165730   \n",
       "result  0.010458 -0.079994  0.038902 -0.007531 -0.000369 -0.007845 -0.007223   \n",
       "\n",
       "              O2        P8        T8       FC6        F4        F8       AF4  \\\n",
       "AF3     0.040539  0.999607 -0.070801  0.572997 -0.394334  0.998714  0.012070   \n",
       "F7      0.517816  0.264922  0.489010  0.317418  0.275977  0.251327 -0.071895   \n",
       "F3      0.221270  0.486506  0.191273  0.517950  0.116761  0.500276 -0.637363   \n",
       "FC5     0.130482  0.013228 -0.519498  0.420311  0.515388 -0.005351  0.161155   \n",
       "T7     -0.030063  0.264913 -0.225508  0.336173 -0.095902  0.267107  0.478852   \n",
       "P7      0.208167 -0.012528  0.420539 -0.196873 -0.229149 -0.030921  0.988310   \n",
       "O1      0.133434  0.007638 -0.515699  0.417041  0.517621 -0.011080  0.165730   \n",
       "O2      1.000000  0.047843  0.640387  0.433333  0.577013  0.020493  0.224627   \n",
       "P8      0.047843  1.000000 -0.074047  0.577472 -0.385643  0.998849 -0.008055   \n",
       "T8      0.640387 -0.074047  1.000000  0.038252  0.132692 -0.082256  0.336282   \n",
       "FC6     0.433333  0.577472  0.038252  1.000000  0.411682  0.577408 -0.127763   \n",
       "F4      0.577013 -0.385643  0.132692  0.411682  1.000000 -0.399400 -0.146960   \n",
       "F8      0.020493  0.998849 -0.082256  0.577408 -0.399400  1.000000 -0.028968   \n",
       "AF4     0.224627 -0.008055  0.336282 -0.127763 -0.146960 -0.028968  1.000000   \n",
       "result  0.025100  0.009576  0.047218  0.064294  0.047965  0.013120 -0.007550   \n",
       "\n",
       "          result  \n",
       "AF3     0.010458  \n",
       "F7     -0.079994  \n",
       "F3      0.038902  \n",
       "FC5    -0.007531  \n",
       "T7     -0.000369  \n",
       "P7     -0.007845  \n",
       "O1     -0.007223  \n",
       "O2      0.025100  \n",
       "P8      0.009576  \n",
       "T8      0.047218  \n",
       "FC6     0.064294  \n",
       "F4      0.047965  \n",
       "F8      0.013120  \n",
       "AF4    -0.007550  \n",
       "result  1.000000  "
      ]
     },
     "execution_count": 22,
     "metadata": {},
     "output_type": "execute_result"
    }
   ],
   "source": [
    "data.corr()"
   ]
  },
  {
   "cell_type": "code",
   "execution_count": 33,
   "id": "35c921cf",
   "metadata": {},
   "outputs": [
    {
     "data": {
      "image/png": "[encoded data removed]",
      "text/plain": [
       "<Figure size 640x480 with 2 Axes>"
      ]
     },
     "metadata": {},
     "output_type": "display_data"
    }
   ],
   "source": [
    "sns.heatmap(corr_matrix, cmap='coolwarm', annot= True , annot_kws={\"size\": 5})\n",
    "plt.title('Correlation Matrix Heatmap')\n",
    "plt.show()"
   ]
  },
  {
   "cell_type": "code",
   "execution_count": 34,
   "id": "79c77543",
   "metadata": {},
   "outputs": [
    {
     "name": "stdout",
     "output_type": "stream",
     "text": [
      "F Statistic: 76.14639118019296\n",
      "P-value: 8.045785998209412e-203\n",
      "Reject the null hypothesis. There is a significant difference between the means.\n"
     ]
    }
   ],
   "source": [
    "#anova test \n",
    "group1= data['AF3']\n",
    "group2 = data['F3']\n",
    "group3 = data['F7']\n",
    "group4 = data['FC5']\n",
    "group5 = data['T7']\n",
    "group6 = data['P7']\n",
    "group7 = data['O1']\n",
    "group8 = data['O2']\n",
    "group9 = data['P8']\n",
    "group10 = data['T8']\n",
    "group11 =data['FC6']\n",
    "group12 = data['F4']\n",
    "group13 = data['F8']\n",
    "group14 = data['AF4']\n",
    "# sum squares , strength \n",
    "f_statistic, p_value = stats.f_oneway(group1,group2,group3,group4,group5,group6,group7,group8,group9,group10,group11,group12,group13,group14)\n",
    "\n",
    "print(\"F Statistic:\", f_statistic)\n",
    "print(\"P-value:\", p_value)\n",
    "\n",
    "# Interpretation\n",
    "alpha = 0.05\n",
    "if p_value < alpha:\n",
    "    print(\"Reject the null hypothesis. There is a significant difference between the means.\")\n",
    "else:\n",
    "    print(\"Fail to reject the null hypothesis. There is no significant difference between the means.\")"
   ]
  },
  {
   "cell_type": "code",
   "execution_count": 53,
   "id": "0410f02e",
   "metadata": {},
   "outputs": [
    {
     "name": "stdout",
     "output_type": "stream",
     "text": [
      "F-test value: 199.3896\n",
      "Critical F-value: 2.9959\n",
      "SST: 1151861391159.4460\n",
      "SSB: 826072188.8864\n",
      "SSW: 93087118489.5746\n",
      "Degrees of freedom - Between: 2, Within: 44937\n",
      "MS Between: 413036094.4432\n",
      "MS Within: 2071502.7369\n",
      "P-value: 0.0000\n",
      "Reject null hypothesis: True\n"
     ]
    }
   ],
   "source": [
    "df_between = 2  # Number of groups - 1\n",
    "df_within = len(group1) + len(group2) + len(group3) - 3  # Total number of observations - number of groups\n",
    "\n",
    "# Calculate mean for each group\n",
    "mean_group1 = sum(group1) / len(group1)\n",
    "mean_group2 = sum(group2) / len(group2)\n",
    "mean_group3 = sum(group3) / len(group3)\n",
    "\n",
    "# Calculate sum of squares total (SST)\n",
    "overall_mean = (mean_group1+mean_group2+mean_group3)/3\n",
    "sst = sum((x - overall_mean) ** 2 for x in group1 + group2 + group3)\n",
    "\n",
    "# Calculate sum of squares between (SSB)\n",
    "ssb = len(group1) * (mean_group1 - overall_mean) ** 2 + len(group2) * (mean_group2 - overall_mean) ** 2 + len(group3) * (\n",
    "        mean_group3 - overall_mean) ** 2\n",
    "\n",
    "# Calculate sum of squares within (SSW)\n",
    "ssw = sum((x - mean_group1) ** 2 for x in group1) + sum((x - mean_group2) ** 2 for x in group2) + sum(\n",
    "    (x - mean_group3) ** 2 for x in group3)\n",
    "\n",
    "# Calculate mean squares (MS)\n",
    "ms_between = ssb / df_between\n",
    "ms_within = ssw / df_within\n",
    "\n",
    "# Calculate F-test value\n",
    "f_test = ms_between / ms_within\n",
    "\n",
    "# Calculate critical F-value\n",
    "alpha = 0.05  # Significance level\n",
    "f_critical = stats.f.ppf(1 - alpha, df_between, df_within)\n",
    "\n",
    "# Determine if reject or accept null hypothesis\n",
    "reject_null = f_test > f_critical\n",
    "\n",
    "print(f\"F-test value: {f_test:.4f}\")\n",
    "print(f\"Critical F-value: {f_critical:.4f}\")\n",
    "print(f\"SST: {sst:.4f}\")\n",
    "print(f\"SSB: {ssb:.4f}\")\n",
    "print(f\"SSW: {ssw:.4f}\")\n",
    "print(f\"Degrees of freedom - Between: {df_between}, Within: {df_within}\")\n",
    "print(f\"MS Between: {ms_between:.4f}\")\n",
    "print(f\"MS Within: {ms_within:.4f}\")\n",
    "print(f\"P-value: {p_value:.4f}\")\n",
    "print(\"Reject null hypothesis:\", reject_null)"
   ]
  },
  {
   "cell_type": "markdown",
   "id": "5157b898",
   "metadata": {},
   "source": [
    "# Feature Reduction"
   ]
  },
  {
   "cell_type": "code",
   "execution_count": 23,
   "id": "06a7ad4b",
   "metadata": {},
   "outputs": [],
   "source": [
    "from sklearn import datasets\n",
    "from sklearn.model_selection import train_test_split, cross_val_predict, StratifiedKFold\n",
    "from sklearn.preprocessing import StandardScaler\n",
    "from sklearn.decomposition import PCA\n",
    "from sklearn.discriminant_analysis import LinearDiscriminantAnalysis\n",
    "from sklearn.neighbors import KNeighborsClassifier\n",
    "from sklearn.metrics import accuracy_score, roc_curve, auc\n",
    "from sklearn.model_selection import cross_val_predict"
   ]
  },
  {
   "cell_type": "code",
   "execution_count": 27,
   "id": "fea2a930",
   "metadata": {},
   "outputs": [],
   "source": [
    "# Split the dataset into training and testing sets\n",
    "X_train, X_test, y_train, y_test = train_test_split(X, y, test_size=0.3, random_state=42)"
   ]
  },
  {
   "cell_type": "code",
   "execution_count": 28,
   "id": "686ac6f3",
   "metadata": {},
   "outputs": [],
   "source": [
    "def train_and_evaluate(classifier, X_train, X_test, y_train, y_test):\n",
    "   \n",
    "    classifier.fit(X_train, y_train)\n",
    "    y_pred = classifier.predict(X_test)\n",
    "    accuracy = accuracy_score(y_test, y_pred)\n",
    "    return accuracy"
   ]
  },
  {
   "cell_type": "code",
   "execution_count": 29,
   "id": "f7fcedf7",
   "metadata": {},
   "outputs": [],
   "source": [
    "scaler = StandardScaler()\n",
    "X_train_std = scaler.fit_transform(X_train)\n",
    "X_test_std = scaler.transform(X_test)"
   ]
  },
  {
   "cell_type": "code",
   "execution_count": 30,
   "id": "df95587e",
   "metadata": {},
   "outputs": [
    {
     "name": "stdout",
     "output_type": "stream",
     "text": [
      "Accuracy using k-NN with PCA: 54.49%\n"
     ]
    }
   ],
   "source": [
    "# Principal Component Analysis (PCA)\n",
    "pca = PCA(n_components=2)\n",
    "X_train_pca = pca.fit_transform(X_train_std)\n",
    "X_test_pca = pca.transform(X_test_std)\n",
    "knn_pca = KNeighborsClassifier(n_neighbors=3)\n",
    "accuracy_pca = train_and_evaluate(knn_pca, X_train_pca, X_test_pca, y_train, y_test)\n",
    "print(f'Accuracy using k-NN with PCA: {accuracy_pca:.2%}')"
   ]
  },
  {
   "cell_type": "code",
   "execution_count": 31,
   "id": "0217fac0",
   "metadata": {},
   "outputs": [
    {
     "name": "stdout",
     "output_type": "stream",
     "text": [
      "Accuracy using k-NN with LDA: 56.83%\n"
     ]
    }
   ],
   "source": [
    "# Linear Discriminant Analysis (LDA)\n",
    "lda = LinearDiscriminantAnalysis(n_components=1)\n",
    "X_train_lda = lda.fit_transform(X_train_std, y_train)\n",
    "X_test_lda = lda.transform(X_test_std)\n",
    "knn_lda = KNeighborsClassifier(n_neighbors=3)\n",
    "accuracy_lda = train_and_evaluate(knn_lda, X_train_lda, X_test_lda, y_train, y_test)\n",
    "print(f'Accuracy using k-NN with LDA: {accuracy_lda:.2%}')"
   ]
  },
  {
   "cell_type": "code",
   "execution_count": 33,
   "id": "ef0f12e2",
   "metadata": {},
   "outputs": [
    {
     "name": "stdout",
     "output_type": "stream",
     "text": [
      "Original Matrix:\n",
      "           AF3       F7       F3      FC5       T7       P7       O1       O2  \\\n",
      "0      4329.23  4009.23  4289.23  4148.21  4350.26  4586.15  4096.92  4641.03   \n",
      "1      4324.62  4004.62  4293.85  4148.72  4342.05  4586.67  4097.44  4638.97   \n",
      "2      4327.69  4006.67  4295.38  4156.41  4336.92  4583.59  4096.92  4630.26   \n",
      "3      4328.72  4011.79  4296.41  4155.90  4343.59  4582.56  4097.44  4630.77   \n",
      "4      4326.15  4011.79  4292.31  4151.28  4347.69  4586.67  4095.90  4627.69   \n",
      "...        ...      ...      ...      ...      ...      ...      ...      ...   \n",
      "14975  4281.03  3990.26  4245.64  4116.92  4333.85  4614.36  4074.87  4625.64   \n",
      "14976  4276.92  3991.79  4245.13  4110.77  4332.82  4615.38  4073.33  4621.54   \n",
      "14977  4277.44  3990.77  4246.67  4113.85  4333.33  4615.38  4072.82  4623.59   \n",
      "14978  4284.62  3991.79  4251.28  4122.05  4334.36  4616.41  4080.51  4628.72   \n",
      "14979  4287.69  3997.44  4260.00  4121.03  4333.33  4616.41  4088.72  4638.46   \n",
      "\n",
      "            P8       T8      FC6       F4       F8      AF4  result  \n",
      "0      4222.05  4238.46  4211.28  4280.51  4635.90  4393.85       0  \n",
      "1      4210.77  4226.67  4207.69  4279.49  4632.82  4384.10       0  \n",
      "2      4207.69  4222.05  4206.67  4282.05  4628.72  4389.23       0  \n",
      "3      4217.44  4235.38  4210.77  4287.69  4632.31  4396.41       0  \n",
      "4      4210.77  4244.10  4212.82  4288.21  4632.82  4398.46       0  \n",
      "...        ...      ...      ...      ...      ...      ...     ...  \n",
      "14975  4203.08  4221.54  4171.28  4269.23  4593.33  4340.51       1  \n",
      "14976  4194.36  4217.44  4162.56  4259.49  4590.26  4333.33       1  \n",
      "14977  4193.33  4212.82  4160.51  4257.95  4591.79  4339.49       1  \n",
      "14978  4200.00  4220.00  4165.64  4267.18  4596.41  4350.77       1  \n",
      "14979  4212.31  4226.67  4167.69  4274.36  4597.95  4350.77       1  \n",
      "\n",
      "[14980 rows x 15 columns]\n",
      "\n",
      "Reconstructed Matrix (with reduced features):\n",
      "[[4.34374413e+03 3.78621310e+03 4.02211341e+03 ... 4.47453316e+03\n",
      "  5.36479932e+03 4.23428376e-01]\n",
      " [4.33911323e+03 3.78235997e+03 4.01802149e+03 ... 4.46987589e+03\n",
      "  5.35874200e+03 4.22995447e-01]\n",
      " [4.33788025e+03 3.78146010e+03 4.01706677e+03 ... 4.46871359e+03\n",
      "  5.35689707e+03 4.22892888e-01]\n",
      " ...\n",
      " [4.31577188e+03 3.76163992e+03 3.99600787e+03 ... 4.44560077e+03\n",
      "  5.33060414e+03 4.20682356e-01]\n",
      " [4.32118183e+03 3.76645803e+03 4.00112689e+03 ... 4.45123684e+03\n",
      "  5.33709685e+03 4.21220058e-01]\n",
      " [4.32557944e+03 3.77027977e+03 4.00518666e+03 ... 4.45575981e+03\n",
      "  5.34254923e+03 4.21647585e-01]]\n"
     ]
    },
    {
     "ename": "NameError",
     "evalue": "name 'accuracy' is not defined",
     "output_type": "error",
     "traceback": [
      "\u001b[1;31m---------------------------------------------------------------------------\u001b[0m",
      "\u001b[1;31mNameError\u001b[0m                                 Traceback (most recent call last)",
      "Cell \u001b[1;32mIn[33], line 28\u001b[0m\n\u001b[0;32m     26\u001b[0m \u001b[38;5;28mprint\u001b[39m(\u001b[38;5;124m\"\u001b[39m\u001b[38;5;130;01m\\n\u001b[39;00m\u001b[38;5;124mReconstructed Matrix (with reduced features):\u001b[39m\u001b[38;5;124m\"\u001b[39m)\n\u001b[0;32m     27\u001b[0m \u001b[38;5;28mprint\u001b[39m(reconstructed_matrix)\n\u001b[1;32m---> 28\u001b[0m \u001b[38;5;28mprint\u001b[39m(\u001b[38;5;124mf\u001b[39m\u001b[38;5;124m'\u001b[39m\u001b[38;5;124mAccuracy: \u001b[39m\u001b[38;5;132;01m{\u001b[39;00maccuracy\u001b[38;5;132;01m:\u001b[39;00m\u001b[38;5;124m.2%\u001b[39m\u001b[38;5;132;01m}\u001b[39;00m\u001b[38;5;124m'\u001b[39m)\n",
      "\u001b[1;31mNameError\u001b[0m: name 'accuracy' is not defined"
     ]
    }
   ],
   "source": [
    "# Singular Value Decomposition (SVD)\n",
    "import numpy as np\n",
    "\n",
    "def svd_feature_reduction(data, k):\n",
    "    # Perform SVD\n",
    "    U, Sigma, Vt = np.linalg.svd(data, full_matrices=False)\n",
    "\n",
    "    # Retain only the top k components\n",
    "    U_reduced = U[:, :k]\n",
    "    Sigma_reduced = np.diag(Sigma[:k])\n",
    "    Vt_reduced = Vt[:k, :]\n",
    "\n",
    "    return U_reduced, Sigma_reduced, Vt_reduced\n",
    "\n",
    "# Set the number of components to keep (reduce to k dimensions)\n",
    "k = 2\n",
    "\n",
    "# Perform SVD for feature reduction\n",
    "U_reduced, Sigma_reduced, Vt_reduced = svd_feature_reduction(data, k)\n",
    "\n",
    "# Reconstruct the original matrix using the reduced components\n",
    "reconstructed_matrix = np.dot(U_reduced, np.dot(Sigma_reduced, Vt_reduced))\n",
    "\n",
    "print(\"Original Matrix:\")\n",
    "print(data)\n",
    "print(\"\\nReconstructed Matrix (with reduced features):\")\n",
    "print(reconstructed_matrix)\n",
    "print(f'Accuracy: {accuracy:.2%}')"
   ]
  },
  {
   "cell_type": "markdown",
   "id": "f60edc8f",
   "metadata": {},
   "source": [
    "# Model Implementations"
   ]
  },
  {
   "cell_type": "code",
   "execution_count": 34,
   "id": "693d09f5",
   "metadata": {},
   "outputs": [
    {
     "data": {
      "text/html": [
       "<style>#sk-container-id-1 {color: black;}#sk-container-id-1 pre{padding: 0;}#sk-container-id-1 div.sk-toggleable {background-color: white;}#sk-container-id-1 label.sk-toggleable__label {cursor: pointer;display: block;width: 100%;margin-bottom: 0;padding: 0.3em;box-sizing: border-box;text-align: center;}#sk-container-id-1 label.sk-toggleable__label-arrow:before {content: \"▸\";float: left;margin-right: 0.25em;color: #696969;}#sk-container-id-1 label.sk-toggleable__label-arrow:hover:before {color: black;}#sk-container-id-1 div.sk-estimator:hover label.sk-toggleable__label-arrow:before {color: black;}#sk-container-id-1 div.sk-toggleable__content {max-height: 0;max-width: 0;overflow: hidden;text-align: left;background-color: #f0f8ff;}#sk-container-id-1 div.sk-toggleable__content pre {margin: 0.2em;color: black;border-radius: 0.25em;background-color: #f0f8ff;}#sk-container-id-1 input.sk-toggleable__control:checked~div.sk-toggleable__content {max-height: 200px;max-width: 100%;overflow: auto;}#sk-container-id-1 input.sk-toggleable__control:checked~label.sk-toggleable__label-arrow:before {content: \"▾\";}#sk-container-id-1 div.sk-estimator input.sk-toggleable__control:checked~label.sk-toggleable__label {background-color: #d4ebff;}#sk-container-id-1 div.sk-label input.sk-toggleable__control:checked~label.sk-toggleable__label {background-color: #d4ebff;}#sk-container-id-1 input.sk-hidden--visually {border: 0;clip: rect(1px 1px 1px 1px);clip: rect(1px, 1px, 1px, 1px);height: 1px;margin: -1px;overflow: hidden;padding: 0;position: absolute;width: 1px;}#sk-container-id-1 div.sk-estimator {font-family: monospace;background-color: #f0f8ff;border: 1px dotted black;border-radius: 0.25em;box-sizing: border-box;margin-bottom: 0.5em;}#sk-container-id-1 div.sk-estimator:hover {background-color: #d4ebff;}#sk-container-id-1 div.sk-parallel-item::after {content: \"\";width: 100%;border-bottom: 1px solid gray;flex-grow: 1;}#sk-container-id-1 div.sk-label:hover label.sk-toggleable__label {background-color: #d4ebff;}#sk-container-id-1 div.sk-serial::before {content: \"\";position: absolute;border-left: 1px solid gray;box-sizing: border-box;top: 0;bottom: 0;left: 50%;z-index: 0;}#sk-container-id-1 div.sk-serial {display: flex;flex-direction: column;align-items: center;background-color: white;padding-right: 0.2em;padding-left: 0.2em;position: relative;}#sk-container-id-1 div.sk-item {position: relative;z-index: 1;}#sk-container-id-1 div.sk-parallel {display: flex;align-items: stretch;justify-content: center;background-color: white;position: relative;}#sk-container-id-1 div.sk-item::before, #sk-container-id-1 div.sk-parallel-item::before {content: \"\";position: absolute;border-left: 1px solid gray;box-sizing: border-box;top: 0;bottom: 0;left: 50%;z-index: -1;}#sk-container-id-1 div.sk-parallel-item {display: flex;flex-direction: column;z-index: 1;position: relative;background-color: white;}#sk-container-id-1 div.sk-parallel-item:first-child::after {align-self: flex-end;width: 50%;}#sk-container-id-1 div.sk-parallel-item:last-child::after {align-self: flex-start;width: 50%;}#sk-container-id-1 div.sk-parallel-item:only-child::after {width: 0;}#sk-container-id-1 div.sk-dashed-wrapped {border: 1px dashed gray;margin: 0 0.4em 0.5em 0.4em;box-sizing: border-box;padding-bottom: 0.4em;background-color: white;}#sk-container-id-1 div.sk-label label {font-family: monospace;font-weight: bold;display: inline-block;line-height: 1.2em;}#sk-container-id-1 div.sk-label-container {text-align: center;}#sk-container-id-1 div.sk-container {/* jupyter's `normalize.less` sets `[hidden] { display: none; }` but bootstrap.min.css set `[hidden] { display: none !important; }` so we also need the `!important` here to be able to override the default hidden behavior on the sphinx rendered scikit-learn.org. See: https://github.com/scikit-learn/scikit-learn/issues/21755 */display: inline-block !important;position: relative;}#sk-container-id-1 div.sk-text-repr-fallback {display: none;}</style><div id=\"sk-container-id-1\" class=\"sk-top-container\"><div class=\"sk-text-repr-fallback\"><pre>GaussianNB()</pre><b>In a Jupyter environment, please rerun this cell to show the HTML representation or trust the notebook. <br />On GitHub, the HTML representation is unable to render, please try loading this page with nbviewer.org.</b></div><div class=\"sk-container\" hidden><div class=\"sk-item\"><div class=\"sk-estimator sk-toggleable\"><input class=\"sk-toggleable__control sk-hidden--visually\" id=\"sk-estimator-id-1\" type=\"checkbox\" checked><label for=\"sk-estimator-id-1\" class=\"sk-toggleable__label sk-toggleable__label-arrow\">GaussianNB</label><div class=\"sk-toggleable__content\"><pre>GaussianNB()</pre></div></div></div></div></div>"
      ],
      "text/plain": [
       "GaussianNB()"
      ]
     },
     "execution_count": 34,
     "metadata": {},
     "output_type": "execute_result"
    }
   ],
   "source": [
    "# Naive Bayesian\n",
    "classifier = GaussianNB()\n",
    "classifier.fit(X_train, y_train)"
   ]
  },
  {
   "cell_type": "code",
   "execution_count": 35,
   "id": "650101a7",
   "metadata": {},
   "outputs": [],
   "source": [
    "# test result prediction \n",
    "predictions = classifier.predict(X_test)"
   ]
  },
  {
   "cell_type": "code",
   "execution_count": 36,
   "id": "1785f9ef",
   "metadata": {},
   "outputs": [],
   "source": [
    "# KNN - CLASSIFIER\n",
    "from sklearn.neighbors import KNeighborsClassifier\n",
    "knn = KNeighborsClassifier(n_neighbors=10)\n",
    "model = knn.fit(X_train,y_train)\n",
    "y_pred = model.predict(X_test)\n"
   ]
  },
  {
   "cell_type": "code",
   "execution_count": 37,
   "id": "1ea7f35c",
   "metadata": {},
   "outputs": [
    {
     "name": "stdout",
     "output_type": "stream",
     "text": [
      "Accuracy (Euclidean): 0.9722\n",
      "Accuracy (Manhattan): 0.9693\n",
      "Accuracy (Minkowski): 0.9722\n"
     ]
    }
   ],
   "source": [
    "# Create KNN classifiers with different distance metrics\n",
    "knn_euclidean = KNeighborsClassifier(n_neighbors=3, metric='euclidean')\n",
    "knn_manhattan = KNeighborsClassifier(n_neighbors=3, metric='manhattan')\n",
    "knn_minkowski = KNeighborsClassifier(n_neighbors=3, metric='minkowski', p=2)  # Equivalent to 'euclidean'\n",
    "\n",
    "knn_euclidean.fit(X_train, y_train)\n",
    "knn_manhattan.fit(X_train, y_train)\n",
    "knn_minkowski.fit(X_train, y_train)\n",
    "\n",
    "y_pred_euclidean = knn_euclidean.predict(X_test)\n",
    "y_pred_manhattan = knn_manhattan.predict(X_test)\n",
    "y_pred_minkowski = knn_minkowski.predict(X_test)\n",
    "\n",
    "accuracy_euclidean = accuracy_score(y_test, y_pred_euclidean)\n",
    "accuracy_manhattan = accuracy_score(y_test, y_pred_manhattan)\n",
    "accuracy_minkowski = accuracy_score(y_test, y_pred_minkowski)\n",
    "\n",
    "print(f\"Accuracy (Euclidean): {accuracy_euclidean:.4f}\")\n",
    "print(f\"Accuracy (Manhattan): {accuracy_manhattan:.4f}\")\n",
    "print(f\"Accuracy (Minkowski): {accuracy_minkowski:.4f}\")"
   ]
  },
  {
   "cell_type": "code",
   "execution_count": 38,
   "id": "b9cf490e",
   "metadata": {},
   "outputs": [
    {
     "name": "stdout",
     "output_type": "stream",
     "text": [
      "Accuracy score:  0.468179795282599\n"
     ]
    }
   ],
   "source": [
    "#Decision Tree (Entropy, and error estimation)\n",
    "from sklearn.tree import DecisionTreeClassifier\n",
    "\n",
    "dt=DecisionTreeClassifier(criterion='entropy',ccp_alpha=0.015)\n",
    "dt.fit(X_train,y_train)\n",
    "prediction=dt.predict(X_test)\n",
    "Accuracy= print('Accuracy score: ', format(accuracy_score(y_test, predictions)))"
   ]
  },
  {
   "cell_type": "code",
   "execution_count": 39,
   "id": "0b0f301f",
   "metadata": {},
   "outputs": [
    {
     "name": "stdout",
     "output_type": "stream",
     "text": [
      "Average Accuracy: 0.4802\n"
     ]
    }
   ],
   "source": [
    "# error estimation \n",
    "from sklearn.model_selection import cross_val_score\n",
    "from sklearn.tree import DecisionTreeClassifier\n",
    "\n",
    "# Assume you have features X and labels y\n",
    "\n",
    "# Create a model\n",
    "model = DecisionTreeClassifier()\n",
    "\n",
    "# Perform 5-fold cross-validation\n",
    "cv_scores = cross_val_score(model, X, y, cv=5)\n",
    "\n",
    "\n",
    "print(f\"Average Accuracy: {cv_scores.mean():.4f}\")\n"
   ]
  },
  {
   "cell_type": "code",
   "execution_count": 40,
   "id": "bdea783c",
   "metadata": {
    "scrolled": true
   },
   "outputs": [
    {
     "name": "stdout",
     "output_type": "stream",
     "text": [
      "Requirement already satisfied: tensorflow in c:\\users\\lenovo\\anaconda3\\lib\\site-packages (2.15.0)\n",
      "Requirement already satisfied: tensorflow-intel==2.15.0 in c:\\users\\lenovo\\anaconda3\\lib\\site-packages (from tensorflow) (2.15.0)\n",
      "Requirement already satisfied: absl-py>=1.0.0 in c:\\users\\lenovo\\anaconda3\\lib\\site-packages (from tensorflow-intel==2.15.0->tensorflow) (2.0.0)\n",
      "Requirement already satisfied: astunparse>=1.6.0 in c:\\users\\lenovo\\anaconda3\\lib\\site-packages (from tensorflow-intel==2.15.0->tensorflow) (1.6.3)\n",
      "Requirement already satisfied: flatbuffers>=23.5.26 in c:\\users\\lenovo\\anaconda3\\lib\\site-packages (from tensorflow-intel==2.15.0->tensorflow) (23.5.26)\n",
      "Requirement already satisfied: gast!=0.5.0,!=0.5.1,!=0.5.2,>=0.2.1 in c:\\users\\lenovo\\anaconda3\\lib\\site-packages (from tensorflow-intel==2.15.0->tensorflow) (0.5.4)\n",
      "Requirement already satisfied: google-pasta>=0.1.1 in c:\\users\\lenovo\\anaconda3\\lib\\site-packages (from tensorflow-intel==2.15.0->tensorflow) (0.2.0)\n",
      "Requirement already satisfied: h5py>=2.9.0 in c:\\users\\lenovo\\anaconda3\\lib\\site-packages (from tensorflow-intel==2.15.0->tensorflow) (3.9.0)\n",
      "Requirement already satisfied: libclang>=13.0.0 in c:\\users\\lenovo\\anaconda3\\lib\\site-packages (from tensorflow-intel==2.15.0->tensorflow) (16.0.6)\n",
      "Requirement already satisfied: ml-dtypes~=0.2.0 in c:\\users\\lenovo\\anaconda3\\lib\\site-packages (from tensorflow-intel==2.15.0->tensorflow) (0.2.0)\n",
      "Requirement already satisfied: numpy<2.0.0,>=1.23.5 in c:\\users\\lenovo\\anaconda3\\lib\\site-packages (from tensorflow-intel==2.15.0->tensorflow) (1.24.3)\n",
      "Requirement already satisfied: opt-einsum>=2.3.2 in c:\\users\\lenovo\\anaconda3\\lib\\site-packages (from tensorflow-intel==2.15.0->tensorflow) (3.3.0)\n",
      "Requirement already satisfied: packaging in c:\\users\\lenovo\\anaconda3\\lib\\site-packages (from tensorflow-intel==2.15.0->tensorflow) (23.1)\n",
      "Requirement already satisfied: protobuf!=4.21.0,!=4.21.1,!=4.21.2,!=4.21.3,!=4.21.4,!=4.21.5,<5.0.0dev,>=3.20.3 in c:\\users\\lenovo\\anaconda3\\lib\\site-packages (from tensorflow-intel==2.15.0->tensorflow) (4.23.4)\n",
      "Requirement already satisfied: setuptools in c:\\users\\lenovo\\anaconda3\\lib\\site-packages (from tensorflow-intel==2.15.0->tensorflow) (68.0.0)\n",
      "Requirement already satisfied: six>=1.12.0 in c:\\users\\lenovo\\anaconda3\\lib\\site-packages (from tensorflow-intel==2.15.0->tensorflow) (1.16.0)\n",
      "Requirement already satisfied: termcolor>=1.1.0 in c:\\users\\lenovo\\anaconda3\\lib\\site-packages (from tensorflow-intel==2.15.0->tensorflow) (2.4.0)\n",
      "Requirement already satisfied: typing-extensions>=3.6.6 in c:\\users\\lenovo\\anaconda3\\lib\\site-packages (from tensorflow-intel==2.15.0->tensorflow) (4.7.1)\n",
      "Requirement already satisfied: wrapt<1.15,>=1.11.0 in c:\\users\\lenovo\\anaconda3\\lib\\site-packages (from tensorflow-intel==2.15.0->tensorflow) (1.14.1)\n",
      "Requirement already satisfied: tensorflow-io-gcs-filesystem>=0.23.1 in c:\\users\\lenovo\\anaconda3\\lib\\site-packages (from tensorflow-intel==2.15.0->tensorflow) (0.31.0)\n",
      "Requirement already satisfied: grpcio<2.0,>=1.24.3 in c:\\users\\lenovo\\anaconda3\\lib\\site-packages (from tensorflow-intel==2.15.0->tensorflow) (1.60.0)\n",
      "Requirement already satisfied: tensorboard<2.16,>=2.15 in c:\\users\\lenovo\\anaconda3\\lib\\site-packages (from tensorflow-intel==2.15.0->tensorflow) (2.15.1)\n",
      "Requirement already satisfied: tensorflow-estimator<2.16,>=2.15.0 in c:\\users\\lenovo\\anaconda3\\lib\\site-packages (from tensorflow-intel==2.15.0->tensorflow) (2.15.0)\n",
      "Requirement already satisfied: keras<2.16,>=2.15.0 in c:\\users\\lenovo\\anaconda3\\lib\\site-packages (from tensorflow-intel==2.15.0->tensorflow) (2.15.0)\n",
      "Requirement already satisfied: wheel<1.0,>=0.23.0 in c:\\users\\lenovo\\anaconda3\\lib\\site-packages (from astunparse>=1.6.0->tensorflow-intel==2.15.0->tensorflow) (0.38.4)\n",
      "Requirement already satisfied: google-auth<3,>=1.6.3 in c:\\users\\lenovo\\anaconda3\\lib\\site-packages (from tensorboard<2.16,>=2.15->tensorflow-intel==2.15.0->tensorflow) (2.26.1)\n",
      "Requirement already satisfied: google-auth-oauthlib<2,>=0.5 in c:\\users\\lenovo\\anaconda3\\lib\\site-packages (from tensorboard<2.16,>=2.15->tensorflow-intel==2.15.0->tensorflow) (1.2.0)\n",
      "Requirement already satisfied: markdown>=2.6.8 in c:\\users\\lenovo\\anaconda3\\lib\\site-packages (from tensorboard<2.16,>=2.15->tensorflow-intel==2.15.0->tensorflow) (3.4.1)\n",
      "Requirement already satisfied: requests<3,>=2.21.0 in c:\\users\\lenovo\\anaconda3\\lib\\site-packages (from tensorboard<2.16,>=2.15->tensorflow-intel==2.15.0->tensorflow) (2.31.0)\n",
      "Requirement already satisfied: tensorboard-data-server<0.8.0,>=0.7.0 in c:\\users\\lenovo\\anaconda3\\lib\\site-packages (from tensorboard<2.16,>=2.15->tensorflow-intel==2.15.0->tensorflow) (0.7.2)\n",
      "Requirement already satisfied: werkzeug>=1.0.1 in c:\\users\\lenovo\\anaconda3\\lib\\site-packages (from tensorboard<2.16,>=2.15->tensorflow-intel==2.15.0->tensorflow) (2.2.3)\n",
      "Requirement already satisfied: cachetools<6.0,>=2.0.0 in c:\\users\\lenovo\\anaconda3\\lib\\site-packages (from google-auth<3,>=1.6.3->tensorboard<2.16,>=2.15->tensorflow-intel==2.15.0->tensorflow) (5.3.2)\n",
      "Requirement already satisfied: pyasn1-modules>=0.2.1 in c:\\users\\lenovo\\anaconda3\\lib\\site-packages (from google-auth<3,>=1.6.3->tensorboard<2.16,>=2.15->tensorflow-intel==2.15.0->tensorflow) (0.2.8)\n",
      "Requirement already satisfied: rsa<5,>=3.1.4 in c:\\users\\lenovo\\anaconda3\\lib\\site-packages (from google-auth<3,>=1.6.3->tensorboard<2.16,>=2.15->tensorflow-intel==2.15.0->tensorflow) (4.9)\n",
      "Requirement already satisfied: requests-oauthlib>=0.7.0 in c:\\users\\lenovo\\anaconda3\\lib\\site-packages (from google-auth-oauthlib<2,>=0.5->tensorboard<2.16,>=2.15->tensorflow-intel==2.15.0->tensorflow) (1.3.1)\n",
      "Requirement already satisfied: charset-normalizer<4,>=2 in c:\\users\\lenovo\\anaconda3\\lib\\site-packages (from requests<3,>=2.21.0->tensorboard<2.16,>=2.15->tensorflow-intel==2.15.0->tensorflow) (2.0.4)\n",
      "Requirement already satisfied: idna<4,>=2.5 in c:\\users\\lenovo\\anaconda3\\lib\\site-packages (from requests<3,>=2.21.0->tensorboard<2.16,>=2.15->tensorflow-intel==2.15.0->tensorflow) (3.4)\n",
      "Requirement already satisfied: urllib3<3,>=1.21.1 in c:\\users\\lenovo\\anaconda3\\lib\\site-packages (from requests<3,>=2.21.0->tensorboard<2.16,>=2.15->tensorflow-intel==2.15.0->tensorflow) (1.26.16)\n",
      "Requirement already satisfied: certifi>=2017.4.17 in c:\\users\\lenovo\\anaconda3\\lib\\site-packages (from requests<3,>=2.21.0->tensorboard<2.16,>=2.15->tensorflow-intel==2.15.0->tensorflow) (2023.7.22)\n",
      "Requirement already satisfied: MarkupSafe>=2.1.1 in c:\\users\\lenovo\\anaconda3\\lib\\site-packages (from werkzeug>=1.0.1->tensorboard<2.16,>=2.15->tensorflow-intel==2.15.0->tensorflow) (2.1.1)\n",
      "Requirement already satisfied: pyasn1<0.5.0,>=0.4.6 in c:\\users\\lenovo\\anaconda3\\lib\\site-packages (from pyasn1-modules>=0.2.1->google-auth<3,>=1.6.3->tensorboard<2.16,>=2.15->tensorflow-intel==2.15.0->tensorflow) (0.4.8)\n",
      "Requirement already satisfied: oauthlib>=3.0.0 in c:\\users\\lenovo\\anaconda3\\lib\\site-packages (from requests-oauthlib>=0.7.0->google-auth-oauthlib<2,>=0.5->tensorboard<2.16,>=2.15->tensorflow-intel==2.15.0->tensorflow) (3.2.2)\n",
      "Note: you may need to restart the kernel to use updated packages.\n"
     ]
    }
   ],
   "source": [
    "pip install tensorflow"
   ]
  },
  {
   "cell_type": "code",
   "execution_count": 42,
   "id": "94f67fef",
   "metadata": {},
   "outputs": [
    {
     "name": "stdout",
     "output_type": "stream",
     "text": [
      "Model: \"sequential_1\"\n",
      "_________________________________________________________________\n",
      " Layer (type)                Output Shape              Param #   \n",
      "=================================================================\n",
      " dense_3 (Dense)             (None, 128)               1920      \n",
      "                                                                 \n",
      " dropout_1 (Dropout)         (None, 128)               0         \n",
      "                                                                 \n",
      " dense_4 (Dense)             (None, 64)                8256      \n",
      "                                                                 \n",
      " dense_5 (Dense)             (None, 10)                650       \n",
      "                                                                 \n",
      "=================================================================\n",
      "Total params: 10826 (42.29 KB)\n",
      "Trainable params: 10826 (42.29 KB)\n",
      "Non-trainable params: 0 (0.00 Byte)\n",
      "_________________________________________________________________\n",
      "Epoch 1/10\n",
      "WARNING:tensorflow:From C:\\Users\\lenovo\\anaconda3\\Lib\\site-packages\\keras\\src\\utils\\tf_utils.py:492: The name tf.ragged.RaggedTensorValue is deprecated. Please use tf.compat.v1.ragged.RaggedTensorValue instead.\n",
      "\n",
      "WARNING:tensorflow:From C:\\Users\\lenovo\\anaconda3\\Lib\\site-packages\\keras\\src\\engine\\base_layer_utils.py:384: The name tf.executing_eagerly_outside_functions is deprecated. Please use tf.compat.v1.executing_eagerly_outside_functions instead.\n",
      "\n",
      "263/263 [==============================] - 2s 3ms/step - loss: 296.8399 - accuracy: 0.5025 - val_loss: 26.6995 - val_accuracy: 0.4542\n",
      "Epoch 2/10\n",
      "263/263 [==============================] - 0s 2ms/step - loss: 30.5252 - accuracy: 0.5163 - val_loss: 1.4214 - val_accuracy: 0.4542\n",
      "Epoch 3/10\n",
      "263/263 [==============================] - 0s 2ms/step - loss: 4.9061 - accuracy: 0.5162 - val_loss: 0.6970 - val_accuracy: 0.5458\n",
      "Epoch 4/10\n",
      "263/263 [==============================] - 0s 2ms/step - loss: 1.3023 - accuracy: 0.5012 - val_loss: 0.7676 - val_accuracy: 0.4786\n",
      "Epoch 5/10\n",
      "263/263 [==============================] - 0s 2ms/step - loss: 0.9433 - accuracy: 0.5083 - val_loss: 0.6943 - val_accuracy: 0.5334\n",
      "Epoch 6/10\n",
      "263/263 [==============================] - 0s 2ms/step - loss: 0.7760 - accuracy: 0.5153 - val_loss: 0.6917 - val_accuracy: 0.5467\n",
      "Epoch 7/10\n",
      "263/263 [==============================] - 0s 2ms/step - loss: 1.5070 - accuracy: 0.5351 - val_loss: 0.7029 - val_accuracy: 0.5458\n",
      "Epoch 8/10\n",
      "263/263 [==============================] - 0s 2ms/step - loss: 0.7212 - accuracy: 0.5613 - val_loss: 0.7060 - val_accuracy: 0.5458\n",
      "Epoch 9/10\n",
      "263/263 [==============================] - 0s 2ms/step - loss: 0.7068 - accuracy: 0.5606 - val_loss: 0.6942 - val_accuracy: 0.5458\n",
      "Epoch 10/10\n",
      "263/263 [==============================] - 1s 2ms/step - loss: 0.6988 - accuracy: 0.5629 - val_loss: 0.7210 - val_accuracy: 0.5458\n",
      "141/141 [==============================] - 0s 1ms/step - loss: 0.7298 - accuracy: 0.5309\n",
      "Test Accuracy: 53.09%\n"
     ]
    }
   ],
   "source": [
    "# Neural Network \n",
    "import tensorflow as tf\n",
    "from tensorflow.keras import layers, models\n",
    "\n",
    "# Define the neural network architecture\n",
    "def create_neural_network(input_shape, num_classes):\n",
    "    model = models.Sequential()\n",
    "\n",
    "    # Add input layer\n",
    "    model.add(layers.InputLayer(input_shape=input_shape))\n",
    "\n",
    "    # Add hidden layers\n",
    "    model.add(layers.Dense(128, activation='relu'))\n",
    "    model.add(layers.Dropout(0.5))  # Optional dropout for regularization\n",
    "    model.add(layers.Dense(64, activation='relu'))\n",
    "\n",
    "    # Add output layer\n",
    "    model.add(layers.Dense(num_classes, activation='softmax'))\n",
    "\n",
    "    return model\n",
    "\n",
    "# Example usage:\n",
    "# Replace these values with your own dataset characteristics\n",
    "input_shape = (X_train.shape[1],)\n",
    "num_classes = 10  # Change this based on your classification task\n",
    "\n",
    "# Create the neural network\n",
    "model = create_neural_network(input_shape, num_classes)\n",
    "\n",
    "# Compile the model\n",
    "model.compile(optimizer='adam',\n",
    "              loss='sparse_categorical_crossentropy',  # Change if using one-hot encoded labels\n",
    "              metrics=['accuracy'])\n",
    "\n",
    "# Display the model summary\n",
    "model.summary()\n",
    "\n",
    "# Train the model on your data\n",
    "# Replace X_train, y_train with your training data and labels\n",
    "model.fit(X_train, y_train, epochs=10, batch_size=32, validation_split=0.2)\n",
    "# Evaluate the model on the test set\n",
    "loss, accuracy = model.evaluate(X_test, y_test)\n",
    "\n",
    "# Print the accuracy\n",
    "print(f\"Test Accuracy: {accuracy * 100:.2f}%\")\n"
   ]
  },
  {
   "cell_type": "code",
   "execution_count": 46,
   "id": "976b08b0",
   "metadata": {},
   "outputs": [
    {
     "name": "stdout",
     "output_type": "stream",
     "text": [
      "Reject the null hypothesis\n",
      "T-value: 210.78838867603642\n",
      "T-critical value: 1.9601223702581971\n",
      "P-value: 0.0\n"
     ]
    }
   ],
   "source": [
    "# T-test\n",
    "from scipy import stats\n",
    "import pandas as pd\n",
    "\n",
    "# Read the CSV file into a DataFrame\n",
    "data = pd.read_csv('EEG_Tumour.csv')\n",
    "\n",
    "# Extract the column you want to test\n",
    "column_name = 'AF3'  # Replace with the actual column name\n",
    "\n",
    "# Get the specific column\n",
    "column_data = data[column_name]\n",
    "\n",
    "# Define the null hypothesis mean\n",
    "null_hypothesis_mean = 30\n",
    "\n",
    "# Calculate the t-value and p-value\n",
    "t_value, p_value = stats.ttest_1samp(column_data, null_hypothesis_mean)\n",
    "\n",
    "# Set the significance level (alpha)\n",
    "alpha = 0.05\n",
    "\n",
    "# Find the t-critical value\n",
    "degrees_of_freedom = len(column_data) - 1  # degrees of freedom\n",
    "t_critical = stats.t.ppf(1 - alpha / 2, degrees_of_freedom)  # Use alpha / 2 for a two-tailed test\n",
    "\n",
    "# Compare t-value and t-critical value\n",
    "if abs(t_value) > t_critical:\n",
    "    print(\"Reject the null hypothesis\")\n",
    "else:\n",
    "    print(\"Fail to reject the null hypothesis\")\n",
    "\n",
    "# Print the calculated values\n",
    "print(f\"T-value: {t_value}\")\n",
    "print(f\"T-critical value: {t_critical}\")\n",
    "print(f\"P-value: {p_value}\")\n"
   ]
  },
  {
   "cell_type": "code",
   "execution_count": 45,
   "id": "d7a07ed6",
   "metadata": {
    "collapsed": true
   },
   "outputs": [
    {
     "name": "stdout",
     "output_type": "stream",
     "text": [
      "Requirement already satisfied: pgmpy in c:\\users\\lenovo\\anaconda3\\lib\\site-packages (0.1.24)\n",
      "Requirement already satisfied: networkx in c:\\users\\lenovo\\anaconda3\\lib\\site-packages (from pgmpy) (3.1)\n",
      "Requirement already satisfied: numpy in c:\\users\\lenovo\\anaconda3\\lib\\site-packages (from pgmpy) (1.24.3)\n",
      "Requirement already satisfied: scipy in c:\\users\\lenovo\\anaconda3\\lib\\site-packages (from pgmpy) (1.11.1)\n",
      "Requirement already satisfied: scikit-learn in c:\\users\\lenovo\\anaconda3\\lib\\site-packages (from pgmpy) (1.3.0)\n",
      "Requirement already satisfied: pandas in c:\\users\\lenovo\\anaconda3\\lib\\site-packages (from pgmpy) (2.0.3)\n",
      "Requirement already satisfied: pyparsing in c:\\users\\lenovo\\anaconda3\\lib\\site-packages (from pgmpy) (3.0.9)\n",
      "Requirement already satisfied: torch in c:\\users\\lenovo\\anaconda3\\lib\\site-packages (from pgmpy) (2.1.2)\n",
      "Requirement already satisfied: statsmodels in c:\\users\\lenovo\\anaconda3\\lib\\site-packages (from pgmpy) (0.14.0)\n",
      "Requirement already satisfied: tqdm in c:\\users\\lenovo\\anaconda3\\lib\\site-packages (from pgmpy) (4.65.0)\n",
      "Requirement already satisfied: joblib in c:\\users\\lenovo\\anaconda3\\lib\\site-packages (from pgmpy) (1.2.0)\n",
      "Requirement already satisfied: opt-einsum in c:\\users\\lenovo\\anaconda3\\lib\\site-packages (from pgmpy) (3.3.0)\n",
      "Requirement already satisfied: python-dateutil>=2.8.2 in c:\\users\\lenovo\\anaconda3\\lib\\site-packages (from pandas->pgmpy) (2.8.2)\n",
      "Requirement already satisfied: pytz>=2020.1 in c:\\users\\lenovo\\anaconda3\\lib\\site-packages (from pandas->pgmpy) (2023.3.post1)\n",
      "Requirement already satisfied: tzdata>=2022.1 in c:\\users\\lenovo\\anaconda3\\lib\\site-packages (from pandas->pgmpy) (2023.3)\n",
      "Requirement already satisfied: threadpoolctl>=2.0.0 in c:\\users\\lenovo\\anaconda3\\lib\\site-packages (from scikit-learn->pgmpy) (2.2.0)\n",
      "Requirement already satisfied: patsy>=0.5.2 in c:\\users\\lenovo\\anaconda3\\lib\\site-packages (from statsmodels->pgmpy) (0.5.3)\n",
      "Requirement already satisfied: packaging>=21.3 in c:\\users\\lenovo\\anaconda3\\lib\\site-packages (from statsmodels->pgmpy) (23.1)\n",
      "Requirement already satisfied: filelock in c:\\users\\lenovo\\anaconda3\\lib\\site-packages (from torch->pgmpy) (3.9.0)\n",
      "Requirement already satisfied: typing-extensions in c:\\users\\lenovo\\anaconda3\\lib\\site-packages (from torch->pgmpy) (4.7.1)\n",
      "Requirement already satisfied: sympy in c:\\users\\lenovo\\anaconda3\\lib\\site-packages (from torch->pgmpy) (1.11.1)\n",
      "Requirement already satisfied: jinja2 in c:\\users\\lenovo\\anaconda3\\lib\\site-packages (from torch->pgmpy) (3.1.2)\n",
      "Requirement already satisfied: fsspec in c:\\users\\lenovo\\anaconda3\\lib\\site-packages (from torch->pgmpy) (2023.4.0)\n",
      "Requirement already satisfied: colorama in c:\\users\\lenovo\\anaconda3\\lib\\site-packages (from tqdm->pgmpy) (0.4.6)\n",
      "Requirement already satisfied: six in c:\\users\\lenovo\\anaconda3\\lib\\site-packages (from patsy>=0.5.2->statsmodels->pgmpy) (1.16.0)\n",
      "Requirement already satisfied: MarkupSafe>=2.0 in c:\\users\\lenovo\\anaconda3\\lib\\site-packages (from jinja2->torch->pgmpy) (2.1.1)\n",
      "Requirement already satisfied: mpmath>=0.19 in c:\\users\\lenovo\\anaconda3\\lib\\site-packages (from sympy->torch->pgmpy) (1.3.0)\n",
      "Note: you may need to restart the kernel to use updated packages.\n"
     ]
    }
   ],
   "source": [
    "pip install pgmpy"
   ]
  },
  {
   "cell_type": "code",
   "execution_count": 49,
   "id": "5bae2ed8",
   "metadata": {},
   "outputs": [
    {
     "name": "stderr",
     "output_type": "stream",
     "text": [
      "WARNING:pgmpy:BayesianModel has been renamed to BayesianNetwork. Please use BayesianNetwork class, BayesianModel will be removed in future.\n",
      "WARNING:pgmpy:BayesianModel has been renamed to BayesianNetwork. Please use BayesianNetwork class, BayesianModel will be removed in future.\n",
      "WARNING:pgmpy:BayesianModel has been renamed to BayesianNetwork. Please use BayesianNetwork class, BayesianModel will be removed in future.\n"
     ]
    },
    {
     "name": "stdout",
     "output_type": "stream",
     "text": [
      "+--------+------------+\n",
      "| AF3    |   phi(AF3) |\n",
      "+========+============+\n",
      "| AF3(0) |     0.4000 |\n",
      "+--------+------------+\n",
      "| AF3(1) |     0.6000 |\n",
      "+--------+------------+\n"
     ]
    }
   ],
   "source": [
    "# Bayesian Belief Network\n",
    "from pgmpy.models import BayesianModel\n",
    "from pgmpy.estimators import ParameterEstimator, MaximumLikelihoodEstimator\n",
    "from pgmpy.inference import VariableElimination\n",
    "import pandas as pd\n",
    "\n",
    "# Create a synthetic dataset\n",
    "data = pd.DataFrame({\n",
    "    'AF3': [0, 1, 0, 1, 0, 1, 0, 1],\n",
    "    'FC6': [1, 1, 0, 1, 0, 0, 1, 1],\n",
    "    'FC5': [0, 0, 1, 1, 1, 0, 1, 0]\n",
    "})\n",
    "\n",
    "# Define the Bayesian Network structure\n",
    "model = BayesianModel([('AF3', 'FC6'), ('FC6', 'FC5')])\n",
    "\n",
    "# Estimate parameters from data using Maximum Likelihood Estimation\n",
    "model.fit(data, estimator=MaximumLikelihoodEstimator)\n",
    "\n",
    "# Perform inference\n",
    "inference = VariableElimination(model)\n",
    "\n",
    "# Query the probability of AF3 given evidence on FC6 and FC5\n",
    "query_result = inference.query(variables=['AF3'], evidence={'FC6': 1, 'FC5': 0})\n",
    "print(query_result)\n"
   ]
  },
  {
   "cell_type": "markdown",
   "id": "23a65d19",
   "metadata": {},
   "source": [
    "# Model evaluation  "
   ]
  },
  {
   "cell_type": "code",
   "execution_count": 25,
   "id": "7fdafcb9",
   "metadata": {},
   "outputs": [],
   "source": [
    "# Splitting data into 80% training and 20% testing\n",
    "X = data.drop(\"result\", axis= 1)\n",
    "y = data[\"result\"]"
   ]
  },
  {
   "cell_type": "code",
   "execution_count": 26,
   "id": "2bbb1917",
   "metadata": {},
   "outputs": [
    {
     "name": "stdout",
     "output_type": "stream",
     "text": [
      "Number of rows in the total set: 14980\n",
      "Number of rows in the training set: 10486\n",
      "Number of rows in the test set: 4494\n"
     ]
    }
   ],
   "source": [
    "X_train, X_test, y_train, y_test = train_test_split(X,y,test_size=0.3 ,random_state=1)\n",
    "# training th eevalutation model , have many traing test \n",
    "print('Number of rows in the total set: {}'.format(data.shape[0]))\n",
    "print('Number of rows in the training set: {}'.format(X_train.shape[0]))\n",
    "print('Number of rows in the test set: {}'.format(X_test.shape[0]))"
   ]
  },
  {
   "cell_type": "code",
   "execution_count": 51,
   "id": "4b6a0691",
   "metadata": {},
   "outputs": [
    {
     "name": "stdout",
     "output_type": "stream",
     "text": [
      "Precision score:  0.4631610219845514\n",
      "Recall score:  0.773697270471464\n",
      "F1 score:  0.5794461995911541\n",
      "Accuracy score:  0.4964396973742768\n",
      "Error rate: 0.5035603026257232\n"
     ]
    }
   ],
   "source": [
    "# confusion matrix \n",
    "print('Precision score: ', format(precision_score(y_test, predictions)))\n",
    "print('Recall score: ', format(recall_score(y_test, predictions)))\n",
    "print('F1 score: ', format(f1_score(y_test, predictions)))\n",
    "Accuracy = accuracy_score(y_test, predictions)\n",
    "print('Accuracy score: ', format(Accuracy))\n",
    "print('Error rate:', format(1 - Accuracy))\n"
   ]
  },
  {
   "cell_type": "markdown",
   "id": "5f3b1c49",
   "metadata": {},
   "source": [
    "The model is underfittin ,because its accuracy is close to random guessing, indicating an inability to capture underlying patterns in the data, potentially due to insufficient model complexity or inadequate training.The model is Underfitting ,  recall score is higher than precision."
   ]
  },
  {
   "cell_type": "code",
   "execution_count": 52,
   "id": "43e3e0bc",
   "metadata": {},
   "outputs": [
    {
     "data": {
      "image/png": "[encoded data removed]",
      "text/plain": [
       "<Figure size 400x400 with 2 Axes>"
      ]
     },
     "metadata": {},
     "output_type": "display_data"
    },
    {
     "name": "stdout",
     "output_type": "stream",
     "text": [
      "Accuracy: 1.00\n",
      "Recall: 1.00\n",
      "F-score: 1.00\n",
      "Precision: 1.00\n"
     ]
    }
   ],
   "source": [
    "y_true = data['result']\n",
    "\n",
    "# Predicted labels\n",
    "y_pred = data ['result']\n",
    "\n",
    "# Calculate the confusion matrix\n",
    "cm = confusion_matrix(y_true, y_pred)\n",
    "\n",
    "# Calculate accuracy, recall, f-score, precision\n",
    "accuracy = accuracy_score(y_true, y_pred)\n",
    "recall = recall_score(y_true, y_pred)\n",
    "f_score = f1_score(y_true, y_pred)\n",
    "precision = precision_score(y_true, y_pred)\n",
    "\n",
    "# Display the confusion matrix\n",
    "plt.figure(figsize=(4,4))\n",
    "sns.heatmap(cm, annot=True,  linewidths=.5, square=True, cmap='Blues')\n",
    "plt.ylabel('Actual')\n",
    "plt.xlabel('Predicted')\n",
    "plt.title('Confusion matrix', size = 15)\n",
    "plt.show()\n",
    "\n",
    "# Print the metrics\n",
    "print(f\"Accuracy: {accuracy:.2f}\")\n",
    "print(f\"Recall: {recall:.2f}\")\n",
    "print(f\"F-score: {f_score:.2f}\")\n",
    "print(f\"Precision: {precision:.2f}\")"
   ]
  },
  {
   "cell_type": "code",
   "execution_count": 51,
   "id": "827c03c2",
   "metadata": {},
   "outputs": [
    {
     "name": "stdout",
     "output_type": "stream",
     "text": [
      "Precision score:  0.6261872455902306\n",
      "Recall score:  0.43785578747628084\n",
      "F1 score:  0.5153545505304298\n",
      "Accuracy score:  0.6137071651090342\n",
      "Error rate: 0.3862928348909658\n"
     ]
    },
    {
     "name": "stderr",
     "output_type": "stream",
     "text": [
      "C:\\Users\\lenovo\\anaconda3\\Lib\\site-packages\\sklearn\\linear_model\\_logistic.py:460: ConvergenceWarning: lbfgs failed to converge (status=1):\n",
      "STOP: TOTAL NO. of ITERATIONS REACHED LIMIT.\n",
      "\n",
      "Increase the number of iterations (max_iter) or scale the data as shown in:\n",
      "    https://scikit-learn.org/stable/modules/preprocessing.html\n",
      "Please also refer to the documentation for alternative solver options:\n",
      "    https://scikit-learn.org/stable/modules/linear_model.html#logistic-regression\n",
      "  n_iter_i = _check_optimize_result(\n"
     ]
    },
    {
     "data": {
      "image/png": "[encoded data removed]",
      "text/plain": [
       "<Figure size 800x800 with 1 Axes>"
      ]
     },
     "metadata": {},
     "output_type": "display_data"
    }
   ],
   "source": [
    "import matplotlib.pyplot as plt\n",
    "from sklearn.metrics import roc_curve, auc, precision_score, recall_score, f1_score, accuracy_score\n",
    "from sklearn.model_selection import train_test_split\n",
    "from sklearn.linear_model import LogisticRegression\n",
    "\n",
    "\n",
    "\n",
    "# Train a logistic regression model (as an example)\n",
    "model = LogisticRegression()\n",
    "model.fit(X_train, y_train)\n",
    "\n",
    "# Make predictions on the test set\n",
    "predictions = model.predict(X_test)\n",
    "\n",
    "# Calculate evaluation metrics\n",
    "precision = precision_score(y_test, predictions)\n",
    "recall = recall_score(y_test, predictions)\n",
    "f1 = f1_score(y_test, predictions)\n",
    "accuracy = accuracy_score(y_test, predictions)\n",
    "\n",
    "# Create ROC curve for precision\n",
    "precision, recall, thresholds = roc_curve(y_test, predictions, pos_label=1)\n",
    "roc_auc = auc(precision, recall)\n",
    "\n",
    "# Plot ROC curve for precision\n",
    "plt.figure(figsize=(8, 8))\n",
    "plt.plot(precision, recall, color='darkorange', lw=2, label='ROC curve (area = {:.2f})'.format(roc_auc))\n",
    "plt.plot([0, 1], [0, 1], color='navy', lw=2, linestyle='--')\n",
    "plt.xlabel('Precision')\n",
    "plt.ylabel('Recall')\n",
    "plt.title('ROC Curve for Precision')\n",
    "plt.legend(loc=\"lower right\")\n",
    "plt.show()\n"
   ]
  },
  {
   "cell_type": "code",
   "execution_count": 56,
   "id": "879254df",
   "metadata": {},
   "outputs": [
    {
     "name": "stdout",
     "output_type": "stream",
     "text": [
      "Average Accuracy: 0.8107\n"
     ]
    }
   ],
   "source": [
    "# K-fold cross validation and avarage accuracy\n",
    "# overfittn , evaluate preditvtive model test preformance \n",
    "from sklearn.model_selection import KFold\n",
    "from sklearn.metrics import accuracy_score\n",
    "from sklearn.tree import DecisionTreeClassifier\n",
    "import numpy as np\n",
    "\n",
    "X_train_all = X_train.copy()  # Create a copy of the original training data\n",
    "\n",
    "k = 5\n",
    "kf = KFold(n_splits=k, shuffle=True, random_state=1)\n",
    "\n",
    "accuracies = []\n",
    "\n",
    "# Loop through each fold in the KFold object\n",
    "for train_index, test_index in kf.split(X_train_all):\n",
    "    # Extract training and testing data based on the fold indices\n",
    "    X_train_fold, X_test_fold = X_train_all.iloc[train_index], X_train_all.iloc[test_index]\n",
    "    y_train_fold, y_test_fold = y_train.iloc[train_index], y_train.iloc[test_index]\n",
    "\n",
    "    # Initialize the model inside the loop\n",
    "    model = DecisionTreeClassifier(criterion='gini')\n",
    "\n",
    "    # Train the model on the training fold data\n",
    "    model.fit(X_train_fold, y_train_fold)\n",
    "\n",
    "    # Predict labels for the test fold data\n",
    "    predictions = model.predict(X_test_fold)\n",
    "\n",
    "    # Calculate accuracy for the current fold\n",
    "    accuracy = accuracy_score(y_test_fold, predictions)\n",
    "\n",
    "    # Append the accuracy to the list of accuracies\n",
    "    accuracies.append(accuracy)\n",
    "\n",
    "# Print the average accuracy across all folds\n",
    "print(f\"Average Accuracy: {np.mean(accuracies):.4f}\")\n"
   ]
  },
  {
   "cell_type": "code",
   "execution_count": null,
   "id": "dfe67e97",
   "metadata": {},
   "outputs": [],
   "source": []
  }
 ],
 "metadata": {
  "kernelspec": {
   "display_name": "Python 3 (ipykernel)",
   "language": "python",
   "name": "python3"
  },
  "language_info": {
   "codemirror_mode": {
    "name": "ipython",
    "version": 3
   },
   "file_extension": ".py",
   "mimetype": "text/x-python",
   "name": "python",
   "nbconvert_exporter": "python",
   "pygments_lexer": "ipython3",
   "version": "3.11.5"
  }
 },
 "nbformat": 4,
 "nbformat_minor": 5
}
